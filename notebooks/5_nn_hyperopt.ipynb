{
 "cells": [
  {
   "cell_type": "markdown",
   "metadata": {},
   "source": [
    "# Hyperparemeter optimization of networks to predict wpm\n"
   ]
  },
  {
   "cell_type": "markdown",
   "metadata": {},
   "source": [
    "## Set up\n"
   ]
  },
  {
   "cell_type": "code",
   "execution_count": 1,
   "metadata": {},
   "outputs": [],
   "source": [
    "# Building on the basic pytorch model in nn-predict.ipynb, develop ML pipeline with \n",
    "# hyperparameter optimization\n",
    "# See https://appsilon.com/pytorch-neural-network-tutorial/ for a simple example\n",
    "\n",
    "# Set up to use local modules\n",
    "%load_ext autoreload\n",
    "%autoreload 2\n",
    "import os\n",
    "import sys\n",
    "module_path = os.path.abspath(os.path.join('..'))\n",
    "sys.path.insert(0, module_path)"
   ]
  },
  {
   "cell_type": "code",
   "execution_count": 2,
   "metadata": {},
   "outputs": [],
   "source": [
    "import time\n",
    "import pickle\n",
    "\n",
    "import matplotlib.pyplot as plt\n",
    "import numpy as np\n",
    "import pandas as pd\n",
    "from sklearn.model_selection import train_test_split\n",
    "import torch\n",
    "import torch.nn as nn\n",
    "from torch.utils.data import DataLoader, TensorDataset\n",
    "from torch.optim.lr_scheduler import StepLR\n",
    "from hyperopt import STATUS_OK, Trials, fmin, hp, tpe, space_eval\n",
    "from sklearn.metrics import root_mean_squared_error\n",
    "\n",
    "from src import process\n",
    "from src import models\n",
    "from src import plot\n",
    "\n",
    "# Load the CSV file results.csv into a dataframe and add some processed columns\n",
    "df = process.load_processed_results()\n",
    "# display(df.head())\n",
    "# display(df.tail())"
   ]
  },
  {
   "cell_type": "markdown",
   "metadata": {},
   "source": [
    "## Train network\n"
   ]
  },
  {
   "cell_type": "code",
   "execution_count": 3,
   "metadata": {},
   "outputs": [
    {
     "data": {
      "text/html": [
       "<div>\n",
       "<style scoped>\n",
       "    .dataframe tbody tr th:only-of-type {\n",
       "        vertical-align: middle;\n",
       "    }\n",
       "\n",
       "    .dataframe tbody tr th {\n",
       "        vertical-align: top;\n",
       "    }\n",
       "\n",
       "    .dataframe thead th {\n",
       "        text-align: right;\n",
       "    }\n",
       "</style>\n",
       "<table border=\"1\" class=\"dataframe\">\n",
       "  <thead>\n",
       "    <tr style=\"text-align: right;\">\n",
       "      <th></th>\n",
       "      <th>acc</th>\n",
       "      <th>trial_num</th>\n",
       "      <th>trial_type_num</th>\n",
       "      <th>combined_id_2</th>\n",
       "      <th>combined_id_17</th>\n",
       "      <th>combined_id_25</th>\n",
       "      <th>combined_id_29</th>\n",
       "      <th>combined_id_34</th>\n",
       "    </tr>\n",
       "  </thead>\n",
       "  <tbody>\n",
       "    <tr>\n",
       "      <th>5</th>\n",
       "      <td>91</td>\n",
       "      <td>6</td>\n",
       "      <td>1</td>\n",
       "      <td>1</td>\n",
       "      <td>0</td>\n",
       "      <td>0</td>\n",
       "      <td>0</td>\n",
       "      <td>0</td>\n",
       "    </tr>\n",
       "    <tr>\n",
       "      <th>6</th>\n",
       "      <td>95</td>\n",
       "      <td>7</td>\n",
       "      <td>2</td>\n",
       "      <td>1</td>\n",
       "      <td>0</td>\n",
       "      <td>0</td>\n",
       "      <td>0</td>\n",
       "      <td>0</td>\n",
       "    </tr>\n",
       "    <tr>\n",
       "      <th>7</th>\n",
       "      <td>93</td>\n",
       "      <td>8</td>\n",
       "      <td>3</td>\n",
       "      <td>1</td>\n",
       "      <td>0</td>\n",
       "      <td>0</td>\n",
       "      <td>0</td>\n",
       "      <td>0</td>\n",
       "    </tr>\n",
       "    <tr>\n",
       "      <th>8</th>\n",
       "      <td>93</td>\n",
       "      <td>9</td>\n",
       "      <td>4</td>\n",
       "      <td>1</td>\n",
       "      <td>0</td>\n",
       "      <td>0</td>\n",
       "      <td>0</td>\n",
       "      <td>0</td>\n",
       "    </tr>\n",
       "    <tr>\n",
       "      <th>9</th>\n",
       "      <td>90</td>\n",
       "      <td>10</td>\n",
       "      <td>5</td>\n",
       "      <td>1</td>\n",
       "      <td>0</td>\n",
       "      <td>0</td>\n",
       "      <td>0</td>\n",
       "      <td>0</td>\n",
       "    </tr>\n",
       "  </tbody>\n",
       "</table>\n",
       "</div>"
      ],
      "text/plain": [
       "   acc  trial_num  trial_type_num  combined_id_2  combined_id_17  \\\n",
       "5   91          6               1              1               0   \n",
       "6   95          7               2              1               0   \n",
       "7   93          8               3              1               0   \n",
       "8   93          9               4              1               0   \n",
       "9   90         10               5              1               0   \n",
       "\n",
       "   combined_id_25  combined_id_29  combined_id_34  \n",
       "5               0               0               0  \n",
       "6               0               0               0  \n",
       "7               0               0               0  \n",
       "8               0               0               0  \n",
       "9               0               0               0  "
      ]
     },
     "metadata": {},
     "output_type": "display_data"
    },
    {
     "data": {
      "text/html": [
       "<div>\n",
       "<style scoped>\n",
       "    .dataframe tbody tr th:only-of-type {\n",
       "        vertical-align: middle;\n",
       "    }\n",
       "\n",
       "    .dataframe tbody tr th {\n",
       "        vertical-align: top;\n",
       "    }\n",
       "\n",
       "    .dataframe thead th {\n",
       "        text-align: right;\n",
       "    }\n",
       "</style>\n",
       "<table border=\"1\" class=\"dataframe\">\n",
       "  <thead>\n",
       "    <tr style=\"text-align: right;\">\n",
       "      <th></th>\n",
       "      <th>wpm</th>\n",
       "    </tr>\n",
       "  </thead>\n",
       "  <tbody>\n",
       "    <tr>\n",
       "      <th>5</th>\n",
       "      <td>52.39</td>\n",
       "    </tr>\n",
       "    <tr>\n",
       "      <th>6</th>\n",
       "      <td>64.39</td>\n",
       "    </tr>\n",
       "    <tr>\n",
       "      <th>7</th>\n",
       "      <td>57.79</td>\n",
       "    </tr>\n",
       "    <tr>\n",
       "      <th>8</th>\n",
       "      <td>58.39</td>\n",
       "    </tr>\n",
       "    <tr>\n",
       "      <th>9</th>\n",
       "      <td>53.79</td>\n",
       "    </tr>\n",
       "  </tbody>\n",
       "</table>\n",
       "</div>"
      ],
      "text/plain": [
       "     wpm\n",
       "5  52.39\n",
       "6  64.39\n",
       "7  57.79\n",
       "8  58.39\n",
       "9  53.79"
      ]
     },
     "metadata": {},
     "output_type": "display_data"
    }
   ],
   "source": [
    "# Prepare data\n",
    "\n",
    "# Include trial types above a certain threshold of occurances\n",
    "min_trial_count = 100\n",
    "combined_id_value_counts = df[\"combined_id\"].value_counts()\n",
    "combined_id_value_counts = combined_id_value_counts[\n",
    "    combined_id_value_counts >= min_trial_count\n",
    "]\n",
    "\n",
    "valid_trial_ids = combined_id_value_counts.index.tolist()\n",
    "feature_cols = [\"combined_id\", \"acc\", \"trial_num\", \"trial_type_num\"]\n",
    "target_col = [\"wpm\"]\n",
    "\n",
    "X_df = df.loc[\n",
    "    df[\"combined_id\"].isin(valid_trial_ids),\n",
    "    feature_cols,\n",
    "]\n",
    "Y_df = df[df[\"combined_id\"].isin(valid_trial_ids)][target_col]\n",
    "\n",
    "# Convert X_df['combined_id'] to a 1-hot encoding\n",
    "X_df = pd.get_dummies(X_df, columns=[\"combined_id\"]).astype(int)\n",
    "\n",
    "display(X_df.head())\n",
    "display(Y_df.head())"
   ]
  },
  {
   "cell_type": "code",
   "execution_count": 4,
   "metadata": {},
   "outputs": [
    {
     "name": "stdout",
     "output_type": "stream",
     "text": [
      "Using device: cuda\n"
     ]
    }
   ],
   "source": [
    "# Parameters\n",
    "params = models.get_default_params()\n",
    "\n",
    "seed = 42\n",
    "torch.manual_seed(seed)\n",
    "\n",
    "print(f\"Using device: {params.device}\")\n",
    "\n",
    "# Set up data\n",
    "X = torch.tensor(X_df.values, dtype=torch.float)\n",
    "y = torch.tensor(Y_df.values, dtype=torch.float)\n",
    "X_train, X_test, y_train, y_test = train_test_split(\n",
    "    X, y, train_size=params.train_size, random_state=seed\n",
    ")\n",
    "train_data = TensorDataset(X_train, y_train)\n",
    "test_data = TensorDataset(X_test, y_test)\n",
    "train_loader = DataLoader(train_data, shuffle=True, batch_size=params.batch_size)\n",
    "test_loader = DataLoader(test_data, batch_size=len(test_data.tensors[0]))\n",
    "X_train, y_train = X_train.to(params.device), y_train.to(params.device)\n",
    "X_test, y_test = X_test.to(params.device), y_test.to(params.device)"
   ]
  },
  {
   "cell_type": "code",
   "execution_count": 5,
   "metadata": {},
   "outputs": [
    {
     "name": "stdout",
     "output_type": "stream",
     "text": [
      "Epoch [ 100/1000], Train loss: 202.4708, Test loss: 207.0685, Run Time: 02.08\n",
      "Epoch [ 200/1000], Train loss: 59.4654, Test loss: 73.0926, Run Time: 04.15\n",
      "Epoch [ 300/1000], Train loss: 32.5248, Test loss: 41.7798, Run Time: 06.19\n",
      "Epoch [ 400/1000], Train loss: 29.5815, Test loss: 42.2640, Run Time: 08.02\n",
      "Epoch [ 500/1000], Train loss: 24.7145, Test loss: 30.0307, Run Time: 09.81\n",
      "Epoch [ 600/1000], Train loss: 21.9641, Test loss: 30.8908, Run Time: 11.62\n",
      "Epoch [ 700/1000], Train loss: 18.9577, Test loss: 22.4846, Run Time: 13.48\n",
      "Epoch [ 800/1000], Train loss: 15.1249, Test loss: 17.2734, Run Time: 15.41\n",
      "Epoch [ 900/1000], Train loss: 13.0171, Test loss: 17.1856, Run Time: 17.38\n",
      "Epoch [1000/1000], Train loss: 13.0684, Test loss: 17.5604, Run Time: 19.23\n"
     ]
    }
   ],
   "source": [
    "# Create model\n",
    "input_n = X.shape[1]\n",
    "output_n = y.shape[1]\n",
    "base_model = models.MLP(input_n, params.n_hidden_units, output_n, params.n_layers)\n",
    "base_model = base_model.to(params.device)\n",
    "\n",
    "# Set up for training\n",
    "optimizer = torch.optim.Adam(\n",
    "    params=base_model.parameters(),\n",
    "    lr=params.learning_rate,\n",
    "    weight_decay=params.weight_decay,\n",
    ")\n",
    "scheduler = StepLR(optimizer, step_size=1, gamma=params.gamma)\n",
    "loss_function = nn.MSELoss()\n",
    "\n",
    "# Train model\n",
    "train_loss, test_loss = models.train_and_evaluate(\n",
    "    base_model, train_loader, test_loader, scheduler, optimizer, loss_function, params\n",
    ")"
   ]
  },
  {
   "cell_type": "code",
   "execution_count": 6,
   "metadata": {},
   "outputs": [
    {
     "data": {
      "image/png": "[encoded data removed]",
      "text/plain": [
       "<Figure size 800x300 with 1 Axes>"
      ]
     },
     "metadata": {},
     "output_type": "display_data"
    },
    {
     "data": {
      "image/png": "[encoded data removed]",
      "text/plain": [
       "<Figure size 400x300 with 1 Axes>"
      ]
     },
     "metadata": {},
     "output_type": "display_data"
    }
   ],
   "source": [
    "# Train/test loss\n",
    "fig = plt.figure(figsize=(8, 3))\n",
    "ax = plot.model_loss(train_loss, test_loss)\n",
    "plt.show()\n",
    "\n",
    "# Test: actual vs predicted wpm\n",
    "y_pred = base_model(X_test)\n",
    "fig = plt.figure(figsize=(4, 3))\n",
    "ax = plot.model_scatter(y_test.cpu().detach().numpy(), y_pred.cpu().detach().numpy())\n",
    "ax.set_title(\"Test data\")\n",
    "plt.show()"
   ]
  },
  {
   "cell_type": "markdown",
   "metadata": {},
   "source": [
    "## Hyperopt\n"
   ]
  },
  {
   "cell_type": "code",
   "execution_count": 7,
   "metadata": {},
   "outputs": [],
   "source": [
    "# Define the space over which hyperopt will search for optimal hyperparameters.\n",
    "\n",
    "# Final loss (MSE): 14.80364895\n",
    "# Best optimized hyperparameters:\n",
    "# {'gamma': 0.9995708178430882, 'learning_rate': 0.00874940256734166, 'log_interval': inf, 'weight_decay': 0.003608501354606639}\n",
    "space = {\n",
    "    # loguniform\n",
    "    \"learning_rate\": hp.loguniform(\"learning_rate\", np.log(0.0009), np.log(0.09)),\n",
    "    \"weight_decay\": hp.loguniform(\"weight_decay\", np.log(0.003), np.log(0.03)),\n",
    "    \"gamma\": hp.uniform(\"gamma\", 0.995, 0.99995),\n",
    "    # Fixed\n",
    "    \"log_interval\": np.inf,\n",
    "}\n",
    "max_evals = 25\n",
    "\n",
    "# Final loss (MSE): 10.72558880\n",
    "# Best optimized hyperparameters:\n",
    "# {'batch_size': 4096, 'gamma': 0.9998522974475944, 'learning_rate': 0.003966298895429614, 'log_interval': inf, 'model': 'MLPcondensed', 'n_epochs': 10000, 'n_hidden_units': 64, 'n_layers': 1, 'weight_decay': 0.0023468805643251044}\n",
    "space_large = {\n",
    "    # loguniform\n",
    "    \"learning_rate\": hp.loguniform(\"learning_rate\", np.log(0.0005), np.log(0.9)),\n",
    "    \"weight_decay\": hp.loguniform(\"weight_decay\", np.log(0.00001), np.log(0.1)),\n",
    "    \"gamma\": hp.uniform(\"gamma\", 0.95, 0.99999),\n",
    "    \"n_hidden_units\": hp.choice(\"n_hidden_units\", [16, 64, 256, 1024]),\n",
    "    \"n_epochs\": hp.choice(\"n_epochs\", [1000, 10000]),\n",
    "    \"n_layers\": hp.choice(\"n_layers\", [1, 2, 3, 4, 5]),\n",
    "    # Fixed\n",
    "    # \"n_epochs\": 1000,\n",
    "    \"log_interval\": np.inf,\n",
    "    \"batch_size\": 4096,\n",
    "}\n",
    "max_evals_large = 300"
   ]
  },
  {
   "cell_type": "code",
   "execution_count": 8,
   "metadata": {},
   "outputs": [],
   "source": [
    "def hyperparameter_tuning(space, verbose=True):\n",
    "    \"\"\"Define the hyperopt objective function.\"\"\"\n",
    "    # Set up the varied hyperparameters\n",
    "    for key, value in space.items():\n",
    "        if key in params.__dict__:\n",
    "            setattr(params, key, value)\n",
    "\n",
    "    # Create the model\n",
    "    input_n = X.shape[1]\n",
    "    output_n = y.shape[1]\n",
    "    model = models.MLP(input_n, params.n_hidden_units, output_n, params.n_layers)\n",
    "    model = model.to(params.device)\n",
    "\n",
    "    # Set up for training\n",
    "    optimizer = torch.optim.Adam(\n",
    "        params=model.parameters(),\n",
    "        lr=params.learning_rate,\n",
    "        weight_decay=params.weight_decay,\n",
    "    )\n",
    "    scheduler = StepLR(optimizer, step_size=1, gamma=params.gamma)\n",
    "    loss_function = nn.MSELoss()\n",
    "\n",
    "    # Train model\n",
    "    _, _ = models.train_and_evaluate(\n",
    "        model, train_loader, test_loader, scheduler, optimizer, loss_function, params\n",
    "    )\n",
    "    model.eval()\n",
    "    y_pred = model(X_test)\n",
    "    loss = loss_function(y_pred, y_test)\n",
    "\n",
    "    if verbose:\n",
    "        print(f\"Using varied parameters: {space}\")\n",
    "        print(f\"                   Loss: {loss}\")\n",
    "    return {\"loss\": loss, \"status\": STATUS_OK, \"model\": model}"
   ]
  },
  {
   "cell_type": "code",
   "execution_count": 10,
   "metadata": {},
   "outputs": [
    {
     "name": "stdout",
     "output_type": "stream",
     "text": [
      "  0%|          | 0/25 [00:00<?, ?trial/s, best loss=?]"
     ]
    },
    {
     "name": "stdout",
     "output_type": "stream",
     "text": [
      "Using varied parameters: {'gamma': 0.9954512000643995, 'learning_rate': 0.009139978605331073, 'log_interval': inf, 'weight_decay': 0.00829008916908376}\n",
      "                   Loss: 15.400935173034668           \n",
      "Using varied parameters: {'gamma': 0.9974862267497415, 'learning_rate': 0.012600413407323952, 'log_interval': inf, 'weight_decay': 0.012403738720236592}\n",
      "                   Loss: 14.75                                                  \n",
      "Using varied parameters: {'gamma': 0.9958494375881694, 'learning_rate': 0.01971742952595554, 'log_interval': inf, 'weight_decay': 0.017609519119230813}\n",
      "                   Loss: 15.677520751953125                        \n",
      "Using varied parameters: {'gamma': 0.9956995557275957, 'learning_rate': 0.07033617376126414, 'log_interval': inf, 'weight_decay': 0.004634646935236465}\n",
      "                   Loss: 17.459457397460938                        \n",
      "Using varied parameters: {'gamma': 0.9979156657275761, 'learning_rate': 0.0012770826725969316, 'log_interval': inf, 'weight_decay': 0.014272885093666409}\n",
      "                   Loss: 23.22159767150879                         \n",
      "Using varied parameters: {'gamma': 0.9986432057793564, 'learning_rate': 0.0017001146896755677, 'log_interval': inf, 'weight_decay': 0.011836614685321843}\n",
      "                   Loss: 16.231647491455078                        \n",
      "Using varied parameters: {'gamma': 0.9983338496722757, 'learning_rate': 0.04897408263742878, 'log_interval': inf, 'weight_decay': 0.012634715727087346}\n",
      "                   Loss: 17.337732315063477                        \n",
      "Using varied parameters: {'gamma': 0.9979105920062104, 'learning_rate': 0.0017272080829700848, 'log_interval': inf, 'weight_decay': 0.013917168234570645}\n",
      "                   Loss: 16.098690032958984                        \n",
      "Using varied parameters: {'gamma': 0.9992461522394858, 'learning_rate': 0.008172520811203642, 'log_interval': inf, 'weight_decay': 0.027443732299350924}\n",
      "                   Loss: 18.00516128540039                         \n",
      "Using varied parameters: {'gamma': 0.9990532601429991, 'learning_rate': 0.009203319824657535, 'log_interval': inf, 'weight_decay': 0.004257914460313291}\n",
      "                   Loss: 18.426048278808594                        \n",
      "Using varied parameters: {'gamma': 0.9985056827099427, 'learning_rate': 0.001141556457713888, 'log_interval': inf, 'weight_decay': 0.019097754124151347}\n",
      "                   Loss: 19.043949127197266                         \n",
      "Using varied parameters: {'gamma': 0.9978408096424598, 'learning_rate': 0.013379264262027879, 'log_interval': inf, 'weight_decay': 0.0053786750282983865}\n",
      "                   Loss: 19.6693115234375                           \n",
      "Using varied parameters: {'gamma': 0.9954905775068831, 'learning_rate': 0.012570415214040983, 'log_interval': inf, 'weight_decay': 0.016673425587199735}\n",
      "                   Loss: 15.212089538574219                         \n",
      "Using varied parameters: {'gamma': 0.9963004363784707, 'learning_rate': 0.032458207702018155, 'log_interval': inf, 'weight_decay': 0.015401234440834912}\n",
      "                   Loss: 15.252747535705566                         \n",
      "Using varied parameters: {'gamma': 0.9955923817429868, 'learning_rate': 0.0032566067529995668, 'log_interval': inf, 'weight_decay': 0.01344881485992584}\n",
      "                   Loss: 15.666146278381348                         \n",
      "Using varied parameters: {'gamma': 0.9989159128060916, 'learning_rate': 0.0531528063106612, 'log_interval': inf, 'weight_decay': 0.02416534989859123}\n",
      "                   Loss: 15.726737976074219                         \n",
      "Using varied parameters: {'gamma': 0.9990962843246379, 'learning_rate': 0.0013388667866083108, 'log_interval': inf, 'weight_decay': 0.008308759701931076}\n",
      "                   Loss: 15.36266040802002                          \n",
      "Using varied parameters: {'gamma': 0.9953109888584291, 'learning_rate': 0.0070485163752417495, 'log_interval': inf, 'weight_decay': 0.006089179415150664}\n",
      "                   Loss: 15.80097484588623                          \n",
      "Using varied parameters: {'gamma': 0.9950685737750005, 'learning_rate': 0.048073423086196436, 'log_interval': inf, 'weight_decay': 0.012166773357148086}\n",
      "                   Loss: 14.794538497924805                         \n",
      "Using varied parameters: {'gamma': 0.9950026519509846, 'learning_rate': 0.04889599884162249, 'log_interval': inf, 'weight_decay': 0.0035961281804578853}\n",
      "                   Loss: 15.806671142578125                         \n",
      "Using varied parameters: {'gamma': 0.9968591080662511, 'learning_rate': 0.004276791828599758, 'log_interval': inf, 'weight_decay': 0.009489891711160622}\n",
      "                   Loss: 15.40184497833252                          \n",
      "Using varied parameters: {'gamma': 0.9969517342104008, 'learning_rate': 0.025092624705416473, 'log_interval': inf, 'weight_decay': 0.022176935351425498}\n",
      "                   Loss: 15.71802043914795                          \n",
      "Using varied parameters: {'gamma': 0.9972083003710224, 'learning_rate': 0.08847663557074156, 'log_interval': inf, 'weight_decay': 0.009929245387856682}\n",
      "                   Loss: 17.445112228393555                         \n",
      " 92%|█████████▏| 23/25 [07:14<00:37, 18.52s/trial, best loss: 14.75]"
     ]
    }
   ],
   "source": [
    "# Run trials.\n",
    "run_large_space = False\n",
    "if run_large_space:\n",
    "    space_to_use = space_large\n",
    "    max_evals_to_use = max_evals_large\n",
    "else:\n",
    "    space_to_use = space\n",
    "    max_evals_to_use = max_evals\n",
    "trials = Trials()\n",
    "best = fmin(\n",
    "    fn=hyperparameter_tuning,\n",
    "    space=space_to_use,\n",
    "    algo=tpe.suggest,\n",
    "    max_evals=max_evals_to_use,\n",
    "    trials=trials,\n",
    ")\n",
    "print(f\"Best hyperparameters: {best}\")"
   ]
  },
  {
   "cell_type": "code",
   "execution_count": null,
   "metadata": {},
   "outputs": [
    {
     "name": "stdout",
     "output_type": "stream",
     "text": [
      "Final loss (MSE): 14.80364895\n",
      "Best optimized hyperparameters:\n",
      "{'gamma': 0.9995708178430882, 'learning_rate': 0.00874940256734166, 'log_interval': inf, 'weight_decay': 0.003608501354606639}\n"
     ]
    }
   ],
   "source": [
    "# Create instace of best model.\n",
    "best_model = trials.results[np.argmin([r[\"loss\"] for r in trials.results])][\"model\"]\n",
    "\n",
    "# Examine model hyperparameters\n",
    "best_model_loss = trials.results[np.argmin([r[\"loss\"] for r in trials.results])][\"loss\"]\n",
    "print(f\"Final loss (MSE): {best_model_loss:.8f}\")\n",
    "print(f\"Best optimized hyperparameters:\\n{space_eval(space, best)}\")"
   ]
  },
  {
   "cell_type": "code",
   "execution_count": null,
   "metadata": {},
   "outputs": [
    {
     "name": "stdout",
     "output_type": "stream",
     "text": [
      "Best Model RMSE: 3.847551\n",
      "Base model RMSE: 3.9647524\n",
      "Mean model RMSE: 21.851515\n"
     ]
    }
   ],
   "source": [
    "best_model.eval()\n",
    "best_model_score = root_mean_squared_error(\n",
    "    y_test.cpu(), best_model(X_test).cpu().detach().numpy()\n",
    ")\n",
    "print(\"Best Model RMSE:\", best_model_score)\n",
    "#\n",
    "base_model_score = root_mean_squared_error(\n",
    "    y_test.cpu(), base_model(X_test).cpu().detach().numpy()\n",
    ")\n",
    "print(\"Base model RMSE:\", base_model_score)\n",
    "# MSE from guessing the mean of the training set\n",
    "mean_model_score = root_mean_squared_error(\n",
    "    y_test.cpu(), np.full(y_test.shape, np.mean(y_train.cpu().detach().numpy()))\n",
    ")\n",
    "print(\"Mean model RMSE:\", mean_model_score)"
   ]
  },
  {
   "cell_type": "markdown",
   "metadata": {},
   "source": [
    "## Save Trials and plot results\n"
   ]
  },
  {
   "cell_type": "code",
   "execution_count": null,
   "metadata": {},
   "outputs": [],
   "source": [
    "# Save all the trials to a file with name append datetime\n",
    "# Save the trials object\n",
    "# TODO fix save location, add option to load and plot, maybe in another notebook\n",
    "if run_large_space:\n",
    "    trial_filename = f\"trials_{time.strftime('%Y%m%d-%H%M%S')}.pkl\"\n",
    "    trial_filepath = models.MODEL_PATH / trial_filename\n",
    "    print(trial_filepath)\n",
    "    with open(trial_filepath, \"wb\") as f:\n",
    "        pickle.dump(trials, f)"
   ]
  },
  {
   "cell_type": "code",
   "execution_count": null,
   "metadata": {},
   "outputs": [
    {
     "name": "stdout",
     "output_type": "stream",
     "text": [
      "best loss: 14.803648948669434\n"
     ]
    },
    {
     "data": {
      "image/png": "[encoded data removed]",
      "text/plain": [
       "<Figure size 800x300 with 1 Axes>"
      ]
     },
     "metadata": {},
     "output_type": "display_data"
    },
    {
     "data": {
      "image/png": "[encoded data removed]",
      "text/plain": [
       "<Figure size 800x300 with 1 Axes>"
      ]
     },
     "metadata": {},
     "output_type": "display_data"
    }
   ],
   "source": [
    "# Plot basic results from Trials\n",
    "# Extract the losses from the trials object\n",
    "losses = [x[\"result\"][\"loss\"] for x in trials.trials]\n",
    "learning_rates = [x[\"misc\"][\"vals\"][\"learning_rate\"] for x in trials.trials]\n",
    "best_loss = np.min(losses)\n",
    "print(f\"best loss: {best_loss}\")\n",
    "# Plot loss across trials\n",
    "fig = plt.figure(figsize=(8, 3))\n",
    "plt.plot(losses)\n",
    "plt.xlabel(\"Trial\")\n",
    "plt.ylabel(\"Loss\")\n",
    "plt.yscale(\"log\")\n",
    "plt.show()\n",
    "# Plot losses as function of learning rate\n",
    "fig = plt.figure(figsize=(8, 3))\n",
    "plt.scatter(learning_rates, losses)\n",
    "plt.xlabel(\"Learning rate\")\n",
    "plt.ylabel(\"Loss\")\n",
    "plt.yscale(\"log\")\n",
    "plt.xscale(\"log\")\n",
    "plt.show()"
   ]
  },
  {
   "cell_type": "code",
   "execution_count": null,
   "metadata": {},
   "outputs": [
    {
     "data": {
      "text/html": [
       "<div>\n",
       "<style scoped>\n",
       "    .dataframe tbody tr th:only-of-type {\n",
       "        vertical-align: middle;\n",
       "    }\n",
       "\n",
       "    .dataframe tbody tr th {\n",
       "        vertical-align: top;\n",
       "    }\n",
       "\n",
       "    .dataframe thead th {\n",
       "        text-align: right;\n",
       "    }\n",
       "</style>\n",
       "<table border=\"1\" class=\"dataframe\">\n",
       "  <thead>\n",
       "    <tr style=\"text-align: right;\">\n",
       "      <th></th>\n",
       "      <th>gamma</th>\n",
       "      <th>learning_rate</th>\n",
       "      <th>weight_decay</th>\n",
       "      <th>loss</th>\n",
       "      <th>trial_number</th>\n",
       "    </tr>\n",
       "  </thead>\n",
       "  <tbody>\n",
       "    <tr>\n",
       "      <th>0</th>\n",
       "      <td>0.997670</td>\n",
       "      <td>0.003512</td>\n",
       "      <td>0.001082</td>\n",
       "      <td>16.913649</td>\n",
       "      <td>0</td>\n",
       "    </tr>\n",
       "    <tr>\n",
       "      <th>1</th>\n",
       "      <td>0.996151</td>\n",
       "      <td>0.013157</td>\n",
       "      <td>0.000115</td>\n",
       "      <td>15.176113</td>\n",
       "      <td>1</td>\n",
       "    </tr>\n",
       "    <tr>\n",
       "      <th>2</th>\n",
       "      <td>0.994527</td>\n",
       "      <td>0.021322</td>\n",
       "      <td>0.000178</td>\n",
       "      <td>14.919141</td>\n",
       "      <td>2</td>\n",
       "    </tr>\n",
       "    <tr>\n",
       "      <th>3</th>\n",
       "      <td>0.997337</td>\n",
       "      <td>0.001179</td>\n",
       "      <td>0.000108</td>\n",
       "      <td>22.292828</td>\n",
       "      <td>3</td>\n",
       "    </tr>\n",
       "    <tr>\n",
       "      <th>4</th>\n",
       "      <td>0.991973</td>\n",
       "      <td>0.004721</td>\n",
       "      <td>0.005191</td>\n",
       "      <td>35.573280</td>\n",
       "      <td>4</td>\n",
       "    </tr>\n",
       "  </tbody>\n",
       "</table>\n",
       "</div>"
      ],
      "text/plain": [
       "      gamma  learning_rate  weight_decay       loss  trial_number\n",
       "0  0.997670       0.003512      0.001082  16.913649             0\n",
       "1  0.996151       0.013157      0.000115  15.176113             1\n",
       "2  0.994527       0.021322      0.000178  14.919141             2\n",
       "3  0.997337       0.001179      0.000108  22.292828             3\n",
       "4  0.991973       0.004721      0.005191  35.573280             4"
      ]
     },
     "execution_count": 30,
     "metadata": {},
     "output_type": "execute_result"
    }
   ],
   "source": [
    "def unpack(x):\n",
    "    if x:\n",
    "        return x[0]\n",
    "    return np.nan\n",
    "\n",
    "\n",
    "# We'll first turn each trial into a series and then stack those series together as a dataframe.\n",
    "trials_df = pd.DataFrame([pd.Series(t[\"misc\"][\"vals\"]).apply(unpack) for t in trials])\n",
    "# Then we'll add other relevant bits of information to the correct rows and perform a couple of\n",
    "# mappings for convenience\n",
    "trials_df[\"loss\"] = [t[\"result\"][\"loss\"] for t in trials]\n",
    "trials_df[\"trial_number\"] = trials_df.index\n",
    "trials_df.head()"
   ]
  },
  {
   "cell_type": "code",
   "execution_count": null,
   "metadata": {},
   "outputs": [
    {
     "data": {
      "image/png": "[encoded data removed]",
      "text/plain": [
       "<Figure size 500x150 with 1 Axes>"
      ]
     },
     "metadata": {},
     "output_type": "display_data"
    },
    {
     "data": {
      "image/png": "[encoded data removed]",
      "text/plain": [
       "<Figure size 500x150 with 1 Axes>"
      ]
     },
     "metadata": {},
     "output_type": "display_data"
    },
    {
     "data": {
      "image/png": "[encoded data removed]",
      "text/plain": [
       "<Figure size 500x150 with 1 Axes>"
      ]
     },
     "metadata": {},
     "output_type": "display_data"
    }
   ],
   "source": [
    "# Loop over columns of the dataframe and plot loss vs hyperparameter\n",
    "for col in trials_df.columns:\n",
    "    if col in [\"loss\", \"trial_number\"]:\n",
    "        continue\n",
    "    fig = plt.figure(figsize=(5, 1.5))\n",
    "    plt.scatter(trials_df[col], trials_df[\"loss\"], s=5)\n",
    "    plt.xlabel(col)\n",
    "    plt.ylabel(\"Loss\")\n",
    "    plt.yscale(\"log\")\n",
    "    plt.show()"
   ]
  }
 ],
 "metadata": {
  "kernelspec": {
   "display_name": "venv",
   "language": "python",
   "name": "python3"
  },
  "language_info": {
   "codemirror_mode": {
    "name": "ipython",
    "version": 3
   },
   "file_extension": ".py",
   "mimetype": "text/x-python",
   "name": "python",
   "nbconvert_exporter": "python",
   "pygments_lexer": "ipython3",
   "version": "3.11.7"
  },
  "orig_nbformat": 4
 },
 "nbformat": 4,
 "nbformat_minor": 2
}
