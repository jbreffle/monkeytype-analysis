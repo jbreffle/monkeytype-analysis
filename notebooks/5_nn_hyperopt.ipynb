{
 "cells": [
  {
   "cell_type": "markdown",
   "metadata": {},
   "source": [
    "# Hyperparemeter optimization of networks to predict wpm\n"
   ]
  },
  {
   "cell_type": "markdown",
   "metadata": {},
   "source": [
    "## Set up\n"
   ]
  },
  {
   "cell_type": "code",
   "execution_count": 1,
   "metadata": {},
   "outputs": [],
   "source": [
    "# Building on the basic pytorch model in nn-predict.ipynb, develop ML pipeline with \n",
    "# hyperparameter optimization\n",
    "# See https://appsilon.com/pytorch-neural-network-tutorial/ for a simple example\n",
    "\n",
    "# Set up to use local modules\n",
    "%load_ext autoreload\n",
    "%autoreload 2\n",
    "import os\n",
    "import sys\n",
    "module_path = os.path.abspath(os.path.join('..'))\n",
    "sys.path.insert(0, module_path)"
   ]
  },
  {
   "cell_type": "code",
   "execution_count": 2,
   "metadata": {},
   "outputs": [],
   "source": [
    "import time\n",
    "\n",
    "import matplotlib.pyplot as plt\n",
    "import matplotlib.gridspec as gridspec\n",
    "import numpy as np\n",
    "import pandas as pd\n",
    "from sklearn.model_selection import train_test_split\n",
    "import torch\n",
    "import torch.nn as nn\n",
    "import torch.nn.functional as F\n",
    "from torch.utils.data import DataLoader, TensorDataset\n",
    "from torch.optim.lr_scheduler import StepLR\n",
    "from hyperopt import STATUS_OK, Trials, fmin, hp, tpe, space_eval\n",
    "from sklearn.metrics import root_mean_squared_error\n",
    "\n",
    "\n",
    "from src import process\n",
    "from src import models\n",
    "\n",
    "# Load the CSV file results.csv into a dataframe and add some processed columns\n",
    "df = process.load_processed_results()\n",
    "# display(df.head())\n",
    "# display(df.tail())"
   ]
  },
  {
   "cell_type": "markdown",
   "metadata": {},
   "source": [
    "## Train network\n"
   ]
  },
  {
   "cell_type": "code",
   "execution_count": 3,
   "metadata": {},
   "outputs": [
    {
     "data": {
      "text/html": [
       "<div>\n",
       "<style scoped>\n",
       "    .dataframe tbody tr th:only-of-type {\n",
       "        vertical-align: middle;\n",
       "    }\n",
       "\n",
       "    .dataframe tbody tr th {\n",
       "        vertical-align: top;\n",
       "    }\n",
       "\n",
       "    .dataframe thead th {\n",
       "        text-align: right;\n",
       "    }\n",
       "</style>\n",
       "<table border=\"1\" class=\"dataframe\">\n",
       "  <thead>\n",
       "    <tr style=\"text-align: right;\">\n",
       "      <th></th>\n",
       "      <th>acc</th>\n",
       "      <th>trial_num</th>\n",
       "      <th>trial_type_num</th>\n",
       "      <th>combined_id_2</th>\n",
       "      <th>combined_id_17</th>\n",
       "      <th>combined_id_25</th>\n",
       "      <th>combined_id_29</th>\n",
       "      <th>combined_id_34</th>\n",
       "    </tr>\n",
       "  </thead>\n",
       "  <tbody>\n",
       "    <tr>\n",
       "      <th>5</th>\n",
       "      <td>91</td>\n",
       "      <td>6</td>\n",
       "      <td>1</td>\n",
       "      <td>1</td>\n",
       "      <td>0</td>\n",
       "      <td>0</td>\n",
       "      <td>0</td>\n",
       "      <td>0</td>\n",
       "    </tr>\n",
       "    <tr>\n",
       "      <th>6</th>\n",
       "      <td>95</td>\n",
       "      <td>7</td>\n",
       "      <td>2</td>\n",
       "      <td>1</td>\n",
       "      <td>0</td>\n",
       "      <td>0</td>\n",
       "      <td>0</td>\n",
       "      <td>0</td>\n",
       "    </tr>\n",
       "    <tr>\n",
       "      <th>7</th>\n",
       "      <td>93</td>\n",
       "      <td>8</td>\n",
       "      <td>3</td>\n",
       "      <td>1</td>\n",
       "      <td>0</td>\n",
       "      <td>0</td>\n",
       "      <td>0</td>\n",
       "      <td>0</td>\n",
       "    </tr>\n",
       "    <tr>\n",
       "      <th>8</th>\n",
       "      <td>93</td>\n",
       "      <td>9</td>\n",
       "      <td>4</td>\n",
       "      <td>1</td>\n",
       "      <td>0</td>\n",
       "      <td>0</td>\n",
       "      <td>0</td>\n",
       "      <td>0</td>\n",
       "    </tr>\n",
       "    <tr>\n",
       "      <th>9</th>\n",
       "      <td>90</td>\n",
       "      <td>10</td>\n",
       "      <td>5</td>\n",
       "      <td>1</td>\n",
       "      <td>0</td>\n",
       "      <td>0</td>\n",
       "      <td>0</td>\n",
       "      <td>0</td>\n",
       "    </tr>\n",
       "  </tbody>\n",
       "</table>\n",
       "</div>"
      ],
      "text/plain": [
       "   acc  trial_num  trial_type_num  combined_id_2  combined_id_17  \\\n",
       "5   91          6               1              1               0   \n",
       "6   95          7               2              1               0   \n",
       "7   93          8               3              1               0   \n",
       "8   93          9               4              1               0   \n",
       "9   90         10               5              1               0   \n",
       "\n",
       "   combined_id_25  combined_id_29  combined_id_34  \n",
       "5               0               0               0  \n",
       "6               0               0               0  \n",
       "7               0               0               0  \n",
       "8               0               0               0  \n",
       "9               0               0               0  "
      ]
     },
     "metadata": {},
     "output_type": "display_data"
    },
    {
     "data": {
      "text/html": [
       "<div>\n",
       "<style scoped>\n",
       "    .dataframe tbody tr th:only-of-type {\n",
       "        vertical-align: middle;\n",
       "    }\n",
       "\n",
       "    .dataframe tbody tr th {\n",
       "        vertical-align: top;\n",
       "    }\n",
       "\n",
       "    .dataframe thead th {\n",
       "        text-align: right;\n",
       "    }\n",
       "</style>\n",
       "<table border=\"1\" class=\"dataframe\">\n",
       "  <thead>\n",
       "    <tr style=\"text-align: right;\">\n",
       "      <th></th>\n",
       "      <th>wpm</th>\n",
       "    </tr>\n",
       "  </thead>\n",
       "  <tbody>\n",
       "    <tr>\n",
       "      <th>5</th>\n",
       "      <td>52.39</td>\n",
       "    </tr>\n",
       "    <tr>\n",
       "      <th>6</th>\n",
       "      <td>64.39</td>\n",
       "    </tr>\n",
       "    <tr>\n",
       "      <th>7</th>\n",
       "      <td>57.79</td>\n",
       "    </tr>\n",
       "    <tr>\n",
       "      <th>8</th>\n",
       "      <td>58.39</td>\n",
       "    </tr>\n",
       "    <tr>\n",
       "      <th>9</th>\n",
       "      <td>53.79</td>\n",
       "    </tr>\n",
       "  </tbody>\n",
       "</table>\n",
       "</div>"
      ],
      "text/plain": [
       "     wpm\n",
       "5  52.39\n",
       "6  64.39\n",
       "7  57.79\n",
       "8  58.39\n",
       "9  53.79"
      ]
     },
     "metadata": {},
     "output_type": "display_data"
    }
   ],
   "source": [
    "# Prepare data\n",
    "\n",
    "# Include trial types above a certain threshold of occurances\n",
    "min_trial_count = 100\n",
    "combined_id_value_counts = df[\"combined_id\"].value_counts()\n",
    "combined_id_value_counts = combined_id_value_counts[\n",
    "    combined_id_value_counts >= min_trial_count\n",
    "]\n",
    "\n",
    "valid_trial_ids = combined_id_value_counts.index.tolist()\n",
    "feature_cols = [\"combined_id\", \"acc\", \"trial_num\", \"trial_type_num\"]\n",
    "target_col = [\"wpm\"]\n",
    "\n",
    "X_df = df.loc[\n",
    "    df[\"combined_id\"].isin(valid_trial_ids),\n",
    "    feature_cols,\n",
    "]\n",
    "Y_df = df[df[\"combined_id\"].isin(valid_trial_ids)][target_col]\n",
    "\n",
    "# Convert X_df['combined_id'] to a 1-hot encoding\n",
    "X_df = pd.get_dummies(X_df, columns=[\"combined_id\"]).astype(int)\n",
    "\n",
    "display(X_df.head())\n",
    "display(Y_df.head())"
   ]
  },
  {
   "cell_type": "code",
   "execution_count": 4,
   "metadata": {},
   "outputs": [
    {
     "name": "stdout",
     "output_type": "stream",
     "text": [
      "Using device: cuda\n"
     ]
    }
   ],
   "source": [
    "# Parameters\n",
    "params = models.get_default_params()\n",
    "\n",
    "seed = 42\n",
    "torch.manual_seed(seed)\n",
    "\n",
    "print(f\"Using device: {params.device}\")\n",
    "\n",
    "# Set up data\n",
    "X = torch.tensor(X_df.values, dtype=torch.float)\n",
    "y = torch.tensor(Y_df.values, dtype=torch.float)\n",
    "X_train, X_test, y_train, y_test = train_test_split(\n",
    "    X, y, train_size=params.train_size, random_state=seed\n",
    ")\n",
    "train_data = TensorDataset(X_train, y_train)\n",
    "test_data = TensorDataset(X_test, y_test)\n",
    "train_loader = DataLoader(train_data, shuffle=True, batch_size=params.batch_size)\n",
    "test_loader = DataLoader(test_data, batch_size=len(test_data.tensors[0]))\n",
    "X_train, y_train = X_train.to(params.device), y_train.to(params.device)\n",
    "X_test, y_test = X_test.to(params.device), y_test.to(params.device)"
   ]
  },
  {
   "cell_type": "code",
   "execution_count": 5,
   "metadata": {},
   "outputs": [
    {
     "name": "stdout",
     "output_type": "stream",
     "text": [
      "Epoch [ 100/1000], Train loss: 239.0130, Test loss: 247.0430, Run Time: 01.68\n",
      "Epoch [ 200/1000], Train loss: 158.2344, Test loss: 162.8846, Run Time: 03.05\n",
      "Epoch [ 300/1000], Train loss: 55.2059, Test loss: 68.2448, Run Time: 04.45\n",
      "Epoch [ 400/1000], Train loss: 38.2576, Test loss: 47.1018, Run Time: 05.93\n",
      "Epoch [ 500/1000], Train loss: 29.3750, Test loss: 38.3335, Run Time: 07.26\n",
      "Epoch [ 600/1000], Train loss: 28.6628, Test loss: 33.6621, Run Time: 08.61\n",
      "Epoch [ 700/1000], Train loss: 24.7078, Test loss: 30.2348, Run Time: 09.98\n",
      "Epoch [ 800/1000], Train loss: 21.3635, Test loss: 27.4668, Run Time: 11.57\n",
      "Epoch [ 900/1000], Train loss: 19.9066, Test loss: 26.9456, Run Time: 12.97\n",
      "Epoch [1000/1000], Train loss: 19.6613, Test loss: 23.7124, Run Time: 14.35\n"
     ]
    }
   ],
   "source": [
    "# Create model\n",
    "input_n = X.shape[1]\n",
    "output_n = y.shape[1]\n",
    "base_model = models.MLPcondensed(input_n, params.n_hidden_units, output_n)\n",
    "base_model = base_model.to(params.device)\n",
    "\n",
    "# Set up for training\n",
    "optimizer = torch.optim.Adam(\n",
    "    params=base_model.parameters(), lr=params.lr, weight_decay=params.weight_decay\n",
    ")\n",
    "scheduler = StepLR(optimizer, step_size=1, gamma=params.gamma)\n",
    "loss_function = nn.MSELoss()\n",
    "\n",
    "# Train model\n",
    "train_loss, test_loss = models.train_and_evaluate(\n",
    "    base_model, train_loader, test_loader, scheduler, optimizer, loss_function, params\n",
    ")"
   ]
  },
  {
   "cell_type": "code",
   "execution_count": 6,
   "metadata": {},
   "outputs": [
    {
     "data": {
      "image/png": "[encoded data removed]",
      "text/plain": [
       "<Figure size 800x300 with 1 Axes>"
      ]
     },
     "metadata": {},
     "output_type": "display_data"
    },
    {
     "data": {
      "image/png": "[encoded data removed]",
      "text/plain": [
       "<Figure size 400x300 with 1 Axes>"
      ]
     },
     "metadata": {},
     "output_type": "display_data"
    }
   ],
   "source": [
    "# Plot loss\n",
    "fig = plt.figure(figsize=(8, 3))\n",
    "plt.plot(train_loss, label=\"Train_loss\")\n",
    "plt.plot(test_loss, label=\"Test loss\")\n",
    "plt.xlabel(\"Epoch\")\n",
    "plt.ylabel(\"Loss\")\n",
    "plt.yscale(\"log\")\n",
    "plt.legend()\n",
    "plt.show()\n",
    "\n",
    "# Plot actual vs predicted wpm\n",
    "y_pred = base_model(X_test)\n",
    "fig = plt.figure(figsize=(4, 3))\n",
    "ax = fig.add_subplot(111)\n",
    "ax.scatter(y_test.cpu().detach().numpy(), y_pred.cpu().detach().numpy(), alpha=0.5, s=5)\n",
    "ax.set_xlabel(\"Actual WPM\")\n",
    "ax.set_ylabel(\"Predicted WPM\")\n",
    "ax.set_title(\"Actual vs Predicted WPM\")\n",
    "# Ref line, without affecting axis limits\n",
    "lims = [np.min([ax.get_xlim(), ax.get_ylim()]), np.max([ax.get_xlim(), ax.get_ylim()])]\n",
    "ax.plot(lims, lims, \"k--\", alpha=0.75, zorder=0)\n",
    "ax.set_xlim(lims)\n",
    "ax.set_ylim(lims)\n",
    "plt.show()"
   ]
  },
  {
   "cell_type": "markdown",
   "metadata": {},
   "source": [
    "## Hyperopt\n"
   ]
  },
  {
   "cell_type": "code",
   "execution_count": 26,
   "metadata": {},
   "outputs": [],
   "source": [
    "# Define the space over which hyperopt will search for optimal hyperparameters.\n",
    "\n",
    "# best loss: 16.306495666503906\n",
    "# Best hyperparameters: {'gamma': 0.9960181162722727, 'learning_rate': 0.007269113318457658, 'weight_decay': 0.001119076053891545}\n",
    "space = {\n",
    "    # loguniform\n",
    "    \"learning_rate\": hp.loguniform(\"learning_rate\", np.log(1e-5), np.log(1e-2)),\n",
    "    \"weight_decay\": hp.loguniform(\"weight_decay\", np.log(1e-5), np.log(1e-1)),\n",
    "    \"gamma\": hp.uniform(\"gamma\", 0.9, 0.999),\n",
    "    # Fixed\n",
    "    \"log_interval\": np.inf,\n",
    "}\n",
    "\n",
    "# best loss: 14.207015037536621\n",
    "# Best hyperparameters: {'gamma': 0.9936028171578175, 'learning_rate': 0.04978030842407764, 'weight_decay': 0.0017546369177781098}\n",
    "space = {\n",
    "    # loguniform\n",
    "    \"learning_rate\": hp.loguniform(\"learning_rate\", np.log(0.0007), np.log(0.07)),\n",
    "    \"weight_decay\": hp.loguniform(\"weight_decay\", np.log(0.0001), np.log(0.01)),\n",
    "    \"gamma\": hp.uniform(\"gamma\", 0.99, 0.9999),\n",
    "    # Fixed\n",
    "    \"log_interval\": np.inf,\n",
    "}\n",
    "\n",
    "#best loss: 14.22087574005127\n",
    "#Best hyperparameters: {'gamma': 0.9990809108026611, 'learning_rate': 0.0370470477454688, 'weight_decay': 0.0030818178148805443}\n",
    "space = {\n",
    "    # loguniform\n",
    "    \"learning_rate\": hp.loguniform(\"learning_rate\", np.log(0.005), np.log(0.5)),\n",
    "    \"weight_decay\": hp.loguniform(\"weight_decay\", np.log(0.0001), np.log(0.01)),\n",
    "    \"gamma\": hp.uniform(\"gamma\", 0.99, 0.9999),\n",
    "    # Fixed\n",
    "    \"log_interval\": np.inf,\n",
    "}"
   ]
  },
  {
   "cell_type": "code",
   "execution_count": 27,
   "metadata": {},
   "outputs": [],
   "source": [
    "# Define the hyperopt objective.\n",
    "def hyperparameter_tuning(space, verbose=True):\n",
    "    # Set up the parameters\n",
    "    # Variable\n",
    "    params.lr = space[\"learning_rate\"]\n",
    "    params.weight_decay = space[\"weight_decay\"]\n",
    "    params.gamma = space[\"gamma\"]\n",
    "    # Fixed\n",
    "    params.log_interval = space[\"log_interval\"]\n",
    "\n",
    "    # Create the model\n",
    "    input_n = X.shape[1]\n",
    "    output_n = y.shape[1]\n",
    "    model = models.MLPcondensed(input_n, params.n_hidden_units, output_n)\n",
    "    model = model.to(params.device)\n",
    "\n",
    "    # Set up for training\n",
    "    optimizer = torch.optim.Adam(\n",
    "        params=model.parameters(), lr=params.lr, weight_decay=params.weight_decay\n",
    "    )\n",
    "    scheduler = StepLR(optimizer, step_size=1, gamma=params.gamma)\n",
    "    loss_function = nn.MSELoss()\n",
    "\n",
    "    # Train model\n",
    "    _, _ = models.train_and_evaluate(\n",
    "        model, train_loader, test_loader, scheduler, optimizer, loss_function, params\n",
    "    )\n",
    "    model.eval()\n",
    "    y_pred = model(X_test)\n",
    "    loss = loss_function(y_pred, y_test)\n",
    "\n",
    "    if verbose:\n",
    "        print(f\"Using varied parameters: {space}\")\n",
    "        print(f\"                   Loss: {loss}\")\n",
    "    return {\"loss\": loss, \"status\": STATUS_OK, \"model\": model}"
   ]
  },
  {
   "cell_type": "code",
   "execution_count": 28,
   "metadata": {},
   "outputs": [
    {
     "name": "stdout",
     "output_type": "stream",
     "text": [
      "  0%|          | 0/25 [00:00<?, ?trial/s, best loss=?]"
     ]
    },
    {
     "name": "stdout",
     "output_type": "stream",
     "text": [
      "Using varied parameters: {'gamma': 0.9920151591121197, 'learning_rate': 0.257502109510766, 'log_interval': inf, 'weight_decay': 0.0002795768468648975}\n",
      "                   Loss: 477.3717956542969            \n",
      "Using varied parameters: {'gamma': 0.9903471762045842, 'learning_rate': 0.07424565144448764, 'log_interval': inf, 'weight_decay': 0.005699234512242326}\n",
      "                   Loss: 16.340059280395508                                    \n",
      "Using varied parameters: {'gamma': 0.9952941391065765, 'learning_rate': 0.16912911034492642, 'log_interval': inf, 'weight_decay': 0.0005545054845378056}\n",
      "                   Loss: 15.771797180175781                                     \n",
      "Using varied parameters: {'gamma': 0.9980532646043284, 'learning_rate': 0.2014710012822704, 'log_interval': inf, 'weight_decay': 0.000107855821564358}\n",
      "                   Loss: 477.4443054199219                                      \n",
      "Using varied parameters: {'gamma': 0.9966897841219812, 'learning_rate': 0.009095600290322086, 'log_interval': inf, 'weight_decay': 0.000862636865497307}\n",
      "                   Loss: 16.514820098876953                                     \n",
      "Using varied parameters: {'gamma': 0.9965319668135216, 'learning_rate': 0.013976343272946848, 'log_interval': inf, 'weight_decay': 0.003974408247306189}\n",
      "                   Loss: 15.632086753845215                                     \n",
      "Using varied parameters: {'gamma': 0.9913828752816777, 'learning_rate': 0.008025645046689742, 'log_interval': inf, 'weight_decay': 0.0012430505779211726}\n",
      "                   Loss: 44.80523681640625                                      \n",
      "Using varied parameters: {'gamma': 0.998630618923116, 'learning_rate': 0.39745161260876555, 'log_interval': inf, 'weight_decay': 0.008278030508519656}\n",
      "                   Loss: 476.7975158691406                                      \n",
      "Using varied parameters: {'gamma': 0.994190777937768, 'learning_rate': 0.06617464248100058, 'log_interval': inf, 'weight_decay': 0.0026028668090742305}\n",
      "                   Loss: 15.715974807739258                                     \n",
      "Using varied parameters: {'gamma': 0.9960488481706299, 'learning_rate': 0.23839407541938262, 'log_interval': inf, 'weight_decay': 0.0021565999937704725}\n",
      "                   Loss: 477.04510498046875                                     \n",
      "Using varied parameters: {'gamma': 0.9922048257877975, 'learning_rate': 0.04606657873016342, 'log_interval': inf, 'weight_decay': 0.0005900812562849943}\n",
      "                   Loss: 17.199573516845703                                      \n",
      "Using varied parameters: {'gamma': 0.9925631767544353, 'learning_rate': 0.2284834443361181, 'log_interval': inf, 'weight_decay': 0.00012784912260360885}\n",
      "                   Loss: 16.403141021728516                                      \n",
      "Using varied parameters: {'gamma': 0.9920586705768627, 'learning_rate': 0.005602749331582598, 'log_interval': inf, 'weight_decay': 0.00013767368176841502}\n",
      "                   Loss: 64.73112487792969                                       \n",
      "Using varied parameters: {'gamma': 0.9980778013848468, 'learning_rate': 0.010123063811284604, 'log_interval': inf, 'weight_decay': 0.0005687252052380967}\n",
      "                   Loss: 22.575143814086914                                      \n",
      "Using varied parameters: {'gamma': 0.9986765254598081, 'learning_rate': 0.02788016705682543, 'log_interval': inf, 'weight_decay': 0.0013647611317770742}\n",
      "                   Loss: 15.652185440063477                                      \n",
      "Using varied parameters: {'gamma': 0.9989869121540559, 'learning_rate': 0.12639751440170324, 'log_interval': inf, 'weight_decay': 0.0071707187968164795}\n",
      "                   Loss: 18.80438804626465                                       \n",
      "Using varied parameters: {'gamma': 0.99444338468134, 'learning_rate': 0.006733919821392135, 'log_interval': inf, 'weight_decay': 0.008324192025907154}\n",
      "                   Loss: 31.60207176208496                                       \n",
      "Using varied parameters: {'gamma': 0.9966282393461746, 'learning_rate': 0.08362159603470752, 'log_interval': inf, 'weight_decay': 0.00024775732691498063}\n",
      "                   Loss: 16.261619567871094                                      \n",
      "Using varied parameters: {'gamma': 0.9990809108026611, 'learning_rate': 0.0370470477454688, 'log_interval': inf, 'weight_decay': 0.0030818178148805443}\n",
      "                   Loss: 14.22087574005127                                       \n",
      "Using varied parameters: {'gamma': 0.9912343987937491, 'learning_rate': 0.005609232028488513, 'log_interval': inf, 'weight_decay': 0.0010715349033258222}\n",
      "                   Loss: 62.055084228515625                                     \n",
      "Using varied parameters: {'gamma': 0.9996147741023192, 'learning_rate': 0.017411537879604602, 'log_interval': inf, 'weight_decay': 0.004088606972492317}\n",
      "                   Loss: 32.139461517333984                                     \n",
      "Using varied parameters: {'gamma': 0.997318044153939, 'learning_rate': 0.01911015015162302, 'log_interval': inf, 'weight_decay': 0.0034835762408052355}\n",
      "                   Loss: 15.614607810974121                                     \n",
      "Using varied parameters: {'gamma': 0.9996645724839328, 'learning_rate': 0.026601860465320898, 'log_interval': inf, 'weight_decay': 0.002186553472908605}\n",
      "                   Loss: 15.526951789855957                                     \n",
      "Using varied parameters: {'gamma': 0.9998814106241638, 'learning_rate': 0.03631989025512921, 'log_interval': inf, 'weight_decay': 0.001836778242548879}\n",
      "                   Loss: 73.05679321289062                                      \n",
      "Using varied parameters: {'gamma': 0.9996742059166437, 'learning_rate': 0.02611908962322947, 'log_interval': inf, 'weight_decay': 0.0027657318262067714}\n",
      "                   Loss: 16.3415584564209                                       \n",
      "100%|██████████| 25/25 [05:35<00:00, 13.43s/trial, best loss: 14.22087574005127]\n",
      "Best hyperparameters: {'gamma': 0.9990809108026611, 'learning_rate': 0.0370470477454688, 'weight_decay': 0.0030818178148805443}\n"
     ]
    }
   ],
   "source": [
    "# Run trials.\n",
    "trials = Trials()\n",
    "best = fmin(\n",
    "    fn=hyperparameter_tuning,\n",
    "    space=space,\n",
    "    algo=tpe.suggest,\n",
    "    max_evals=25,\n",
    "    trials=trials,\n",
    ")\n",
    "print(f\"Best hyperparameters: {best}\")"
   ]
  },
  {
   "cell_type": "code",
   "execution_count": 21,
   "metadata": {},
   "outputs": [
    {
     "name": "stdout",
     "output_type": "stream",
     "text": [
      "Final loss (MSE): 14.52180576\n",
      "Best optimized hyperparameters:\n",
      "{'gamma': 0.9983420984008621, 'learning_rate': 0.010352692564316706, 'log_interval': inf, 'weight_decay': 0.0033649676145551762}\n"
     ]
    }
   ],
   "source": [
    "# Create instace of best model.\n",
    "best_model = trials.results[np.argmin([r[\"loss\"] for r in trials.results])][\"model\"]\n",
    "\n",
    "# Examine model hyperparameters\n",
    "best_model_loss = trials.results[np.argmin([r[\"loss\"] for r in trials.results])][\"loss\"]\n",
    "print(f\"Final loss (MSE): {best_model_loss:.8f}\")\n",
    "print(f\"Best optimized hyperparameters:\\n{space_eval(space, best)}\")"
   ]
  },
  {
   "cell_type": "code",
   "execution_count": 22,
   "metadata": {},
   "outputs": [
    {
     "name": "stdout",
     "output_type": "stream",
     "text": [
      "Best Model RMSE: 3.8107488\n",
      "Base model RMSE: 4.9800444\n",
      "Mean model RMSE: 21.851515\n"
     ]
    }
   ],
   "source": [
    "best_model.eval()\n",
    "best_model_score = root_mean_squared_error(\n",
    "    y_test.cpu(), best_model(X_test).cpu().detach().numpy()\n",
    ")\n",
    "print(\"Best Model RMSE:\", best_model_score)\n",
    "#\n",
    "base_model_score = root_mean_squared_error(\n",
    "    y_test.cpu(), base_model(X_test).cpu().detach().numpy()\n",
    ")\n",
    "print(\"Base model RMSE:\", base_model_score)\n",
    "# MSE from guessing the mean of the training set\n",
    "mean_model_score = root_mean_squared_error(\n",
    "    y_test.cpu(), np.full(y_test.shape, np.mean(y_train.cpu().detach().numpy()))\n",
    ")\n",
    "print(\"Mean model RMSE:\", mean_model_score)"
   ]
  }
 ],
 "metadata": {
  "kernelspec": {
   "display_name": "venv",
   "language": "python",
   "name": "python3"
  },
  "language_info": {
   "codemirror_mode": {
    "name": "ipython",
    "version": 3
   },
   "file_extension": ".py",
   "mimetype": "text/x-python",
   "name": "python",
   "nbconvert_exporter": "python",
   "pygments_lexer": "ipython3",
   "version": "3.11.7"
  },
  "orig_nbformat": 4
 },
 "nbformat": 4,
 "nbformat_minor": 2
}
