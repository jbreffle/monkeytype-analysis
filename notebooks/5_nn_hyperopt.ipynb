{
 "cells": [
  {
   "cell_type": "markdown",
   "metadata": {},
   "source": [
    "# Hyperparemeter optimization of networks to predict wpm\n"
   ]
  },
  {
   "cell_type": "markdown",
   "metadata": {},
   "source": [
    "## Set up\n"
   ]
  },
  {
   "cell_type": "code",
   "execution_count": 1,
   "metadata": {},
   "outputs": [],
   "source": [
    "# Set up to use local modules\n",
    "%load_ext autoreload\n",
    "%autoreload 2\n",
    "import os\n",
    "import sys\n",
    "module_path = os.path.abspath(os.path.join('..'))\n",
    "sys.path.insert(0, module_path)"
   ]
  },
  {
   "cell_type": "code",
   "execution_count": 2,
   "metadata": {},
   "outputs": [],
   "source": [
    "import time\n",
    "import pickle\n",
    "\n",
    "import matplotlib.pyplot as plt\n",
    "import numpy as np\n",
    "import pandas as pd\n",
    "from sklearn.model_selection import train_test_split\n",
    "import torch\n",
    "import torch.nn as nn\n",
    "from torch.utils.data import DataLoader, TensorDataset\n",
    "from torch.optim.lr_scheduler import StepLR\n",
    "from hyperopt import STATUS_OK, Trials, fmin, hp, tpe, space_eval\n",
    "from sklearn.metrics import root_mean_squared_error\n",
    "\n",
    "from src import process\n",
    "from src import models\n",
    "from src import plot\n",
    "\n",
    "# Load the CSV file results.csv into a dataframe and add some processed columns\n",
    "df = process.load_processed_results()\n",
    "# display(df.head())\n",
    "# display(df.tail())"
   ]
  },
  {
   "cell_type": "markdown",
   "metadata": {},
   "source": [
    "## Train network\n"
   ]
  },
  {
   "cell_type": "code",
   "execution_count": 3,
   "metadata": {},
   "outputs": [
    {
     "data": {
      "text/html": [
       "<div>\n",
       "<style scoped>\n",
       "    .dataframe tbody tr th:only-of-type {\n",
       "        vertical-align: middle;\n",
       "    }\n",
       "\n",
       "    .dataframe tbody tr th {\n",
       "        vertical-align: top;\n",
       "    }\n",
       "\n",
       "    .dataframe thead th {\n",
       "        text-align: right;\n",
       "    }\n",
       "</style>\n",
       "<table border=\"1\" class=\"dataframe\">\n",
       "  <thead>\n",
       "    <tr style=\"text-align: right;\">\n",
       "      <th></th>\n",
       "      <th>acc</th>\n",
       "      <th>trial_num</th>\n",
       "      <th>trial_type_num</th>\n",
       "      <th>combined_id_2</th>\n",
       "      <th>combined_id_17</th>\n",
       "      <th>combined_id_25</th>\n",
       "      <th>combined_id_29</th>\n",
       "      <th>combined_id_34</th>\n",
       "    </tr>\n",
       "  </thead>\n",
       "  <tbody>\n",
       "    <tr>\n",
       "      <th>5</th>\n",
       "      <td>91</td>\n",
       "      <td>6</td>\n",
       "      <td>1</td>\n",
       "      <td>1</td>\n",
       "      <td>0</td>\n",
       "      <td>0</td>\n",
       "      <td>0</td>\n",
       "      <td>0</td>\n",
       "    </tr>\n",
       "    <tr>\n",
       "      <th>6</th>\n",
       "      <td>95</td>\n",
       "      <td>7</td>\n",
       "      <td>2</td>\n",
       "      <td>1</td>\n",
       "      <td>0</td>\n",
       "      <td>0</td>\n",
       "      <td>0</td>\n",
       "      <td>0</td>\n",
       "    </tr>\n",
       "    <tr>\n",
       "      <th>7</th>\n",
       "      <td>93</td>\n",
       "      <td>8</td>\n",
       "      <td>3</td>\n",
       "      <td>1</td>\n",
       "      <td>0</td>\n",
       "      <td>0</td>\n",
       "      <td>0</td>\n",
       "      <td>0</td>\n",
       "    </tr>\n",
       "    <tr>\n",
       "      <th>8</th>\n",
       "      <td>93</td>\n",
       "      <td>9</td>\n",
       "      <td>4</td>\n",
       "      <td>1</td>\n",
       "      <td>0</td>\n",
       "      <td>0</td>\n",
       "      <td>0</td>\n",
       "      <td>0</td>\n",
       "    </tr>\n",
       "    <tr>\n",
       "      <th>9</th>\n",
       "      <td>90</td>\n",
       "      <td>10</td>\n",
       "      <td>5</td>\n",
       "      <td>1</td>\n",
       "      <td>0</td>\n",
       "      <td>0</td>\n",
       "      <td>0</td>\n",
       "      <td>0</td>\n",
       "    </tr>\n",
       "  </tbody>\n",
       "</table>\n",
       "</div>"
      ],
      "text/plain": [
       "   acc  trial_num  trial_type_num  combined_id_2  combined_id_17  \\\n",
       "5   91          6               1              1               0   \n",
       "6   95          7               2              1               0   \n",
       "7   93          8               3              1               0   \n",
       "8   93          9               4              1               0   \n",
       "9   90         10               5              1               0   \n",
       "\n",
       "   combined_id_25  combined_id_29  combined_id_34  \n",
       "5               0               0               0  \n",
       "6               0               0               0  \n",
       "7               0               0               0  \n",
       "8               0               0               0  \n",
       "9               0               0               0  "
      ]
     },
     "metadata": {},
     "output_type": "display_data"
    },
    {
     "data": {
      "text/html": [
       "<div>\n",
       "<style scoped>\n",
       "    .dataframe tbody tr th:only-of-type {\n",
       "        vertical-align: middle;\n",
       "    }\n",
       "\n",
       "    .dataframe tbody tr th {\n",
       "        vertical-align: top;\n",
       "    }\n",
       "\n",
       "    .dataframe thead th {\n",
       "        text-align: right;\n",
       "    }\n",
       "</style>\n",
       "<table border=\"1\" class=\"dataframe\">\n",
       "  <thead>\n",
       "    <tr style=\"text-align: right;\">\n",
       "      <th></th>\n",
       "      <th>wpm</th>\n",
       "    </tr>\n",
       "  </thead>\n",
       "  <tbody>\n",
       "    <tr>\n",
       "      <th>5</th>\n",
       "      <td>52.39</td>\n",
       "    </tr>\n",
       "    <tr>\n",
       "      <th>6</th>\n",
       "      <td>64.39</td>\n",
       "    </tr>\n",
       "    <tr>\n",
       "      <th>7</th>\n",
       "      <td>57.79</td>\n",
       "    </tr>\n",
       "    <tr>\n",
       "      <th>8</th>\n",
       "      <td>58.39</td>\n",
       "    </tr>\n",
       "    <tr>\n",
       "      <th>9</th>\n",
       "      <td>53.79</td>\n",
       "    </tr>\n",
       "  </tbody>\n",
       "</table>\n",
       "</div>"
      ],
      "text/plain": [
       "     wpm\n",
       "5  52.39\n",
       "6  64.39\n",
       "7  57.79\n",
       "8  58.39\n",
       "9  53.79"
      ]
     },
     "metadata": {},
     "output_type": "display_data"
    }
   ],
   "source": [
    "# Prepare data\n",
    "\n",
    "# Include trial types above a certain threshold of occurances\n",
    "min_trial_count = 100\n",
    "combined_id_value_counts = df[\"combined_id\"].value_counts()\n",
    "combined_id_value_counts = combined_id_value_counts[\n",
    "    combined_id_value_counts >= min_trial_count\n",
    "]\n",
    "\n",
    "valid_trial_ids = combined_id_value_counts.index.tolist()\n",
    "feature_cols = [\"combined_id\", \"acc\", \"trial_num\", \"trial_type_num\"]\n",
    "target_col = [\"wpm\"]\n",
    "\n",
    "X_df = df.loc[\n",
    "    df[\"combined_id\"].isin(valid_trial_ids),\n",
    "    feature_cols,\n",
    "]\n",
    "Y_df = df[df[\"combined_id\"].isin(valid_trial_ids)][target_col]\n",
    "\n",
    "# Convert X_df['combined_id'] to a 1-hot encoding\n",
    "X_df = pd.get_dummies(X_df, columns=[\"combined_id\"]).astype(int)\n",
    "\n",
    "display(X_df.head())\n",
    "display(Y_df.head())"
   ]
  },
  {
   "cell_type": "code",
   "execution_count": 4,
   "metadata": {},
   "outputs": [
    {
     "name": "stdout",
     "output_type": "stream",
     "text": [
      "Using device: cuda\n"
     ]
    }
   ],
   "source": [
    "# Parameters\n",
    "params = models.get_default_params()\n",
    "\n",
    "seed = 42\n",
    "torch.manual_seed(seed)\n",
    "\n",
    "print(f\"Using device: {params.device}\")\n",
    "\n",
    "# Set up data\n",
    "X = torch.tensor(X_df.values, dtype=torch.float)\n",
    "y = torch.tensor(Y_df.values, dtype=torch.float)\n",
    "X_train, X_test, y_train, y_test = train_test_split(\n",
    "    X, y, train_size=params.train_size, random_state=seed\n",
    ")\n",
    "train_data = TensorDataset(X_train, y_train)\n",
    "test_data = TensorDataset(X_test, y_test)\n",
    "train_loader = DataLoader(train_data, shuffle=True, batch_size=params.batch_size)\n",
    "test_loader = DataLoader(test_data, batch_size=len(test_data.tensors[0]))\n",
    "X_train, y_train = X_train.to(params.device), y_train.to(params.device)\n",
    "X_test, y_test = X_test.to(params.device), y_test.to(params.device)"
   ]
  },
  {
   "cell_type": "code",
   "execution_count": 5,
   "metadata": {},
   "outputs": [
    {
     "name": "stdout",
     "output_type": "stream",
     "text": [
      "Epoch [ 100/1000], Train loss: 202.4708, Test loss: 207.0685, Run Time: 01.96\n",
      "Epoch [ 200/1000], Train loss: 59.4654, Test loss: 73.0926, Run Time: 03.92\n",
      "Epoch [ 300/1000], Train loss: 32.5248, Test loss: 41.7798, Run Time: 05.89\n",
      "Epoch [ 400/1000], Train loss: 29.5815, Test loss: 42.2640, Run Time: 07.78\n",
      "Epoch [ 500/1000], Train loss: 24.7145, Test loss: 30.0307, Run Time: 09.62\n",
      "Epoch [ 600/1000], Train loss: 21.9641, Test loss: 30.8908, Run Time: 11.60\n",
      "Epoch [ 700/1000], Train loss: 18.9577, Test loss: 22.4846, Run Time: 13.52\n",
      "Epoch [ 800/1000], Train loss: 15.1249, Test loss: 17.2734, Run Time: 15.31\n",
      "Epoch [ 900/1000], Train loss: 13.0171, Test loss: 17.1856, Run Time: 17.08\n",
      "Epoch [1000/1000], Train loss: 13.0684, Test loss: 17.5604, Run Time: 18.89\n"
     ]
    }
   ],
   "source": [
    "# Create model\n",
    "input_n = X.shape[1]\n",
    "output_n = y.shape[1]\n",
    "base_model = models.MLP(input_n, params.n_hidden_units, output_n, params.n_layers)\n",
    "base_model = base_model.to(params.device)\n",
    "\n",
    "# Set up for training\n",
    "optimizer = torch.optim.Adam(\n",
    "    params=base_model.parameters(),\n",
    "    lr=params.learning_rate,\n",
    "    weight_decay=params.weight_decay,\n",
    ")\n",
    "scheduler = StepLR(optimizer, step_size=1, gamma=params.gamma)\n",
    "loss_function = nn.MSELoss()\n",
    "\n",
    "# Train model\n",
    "train_loss, test_loss = models.train_and_evaluate(\n",
    "    base_model, train_loader, test_loader, scheduler, optimizer, loss_function, params\n",
    ")"
   ]
  },
  {
   "cell_type": "code",
   "execution_count": 6,
   "metadata": {},
   "outputs": [
    {
     "data": {
      "image/png": "[encoded data removed]",
      "text/plain": [
       "<Figure size 800x300 with 1 Axes>"
      ]
     },
     "metadata": {},
     "output_type": "display_data"
    },
    {
     "data": {
      "image/png": "[encoded data removed]",
      "text/plain": [
       "<Figure size 400x300 with 1 Axes>"
      ]
     },
     "metadata": {},
     "output_type": "display_data"
    }
   ],
   "source": [
    "# Train/test loss\n",
    "fig = plt.figure(figsize=(8, 3))\n",
    "ax = plot.model_loss(train_loss, test_loss)\n",
    "plt.show()\n",
    "\n",
    "# Test: actual vs predicted wpm\n",
    "y_pred = base_model(X_test)\n",
    "fig = plt.figure(figsize=(4, 3))\n",
    "ax = plot.model_scatter(y_test.cpu().detach().numpy(), y_pred.cpu().detach().numpy())\n",
    "ax.set_title(\"Test data\")\n",
    "plt.show()"
   ]
  },
  {
   "cell_type": "markdown",
   "metadata": {},
   "source": [
    "## Hyperopt\n"
   ]
  },
  {
   "cell_type": "code",
   "execution_count": 7,
   "metadata": {},
   "outputs": [],
   "source": [
    "# Define the space over which hyperopt will search for optimal hyperparameters.\n",
    "\n",
    "# best loss: 13.251949310302734]\n",
    "# Best hyperparameters: {'gamma': 0.9958955159323867, 'learning_rate': 0.032296472634017484, 'weight_decay': 0.015043315531575938}\n",
    "space = {\n",
    "    # loguniform\n",
    "    \"learning_rate\": hp.loguniform(\n",
    "        \"learning_rate\", np.log(0.03 / 10), np.log(0.03 * 10)\n",
    "    ),\n",
    "    \"weight_decay\": hp.loguniform(\"weight_decay\", np.log(0.01 / 10), np.log(0.01 * 10)),\n",
    "    \"gamma\": hp.loguniform(\"gamma\", np.log(0.98), np.log(0.9998)),\n",
    "    # \"n_epochs\": hp.choice(\"n_epochs\", [1000, 10000]),\n",
    "    # \"n_units\": hp.choice(\"n_units\", [16, 64, 256, 1024]),\n",
    "    # \"n_layers\": hp.choice(\"n_layers\", [1, 2, 3, 4, 5]),\n",
    "    # Fixed\n",
    "    \"log_interval\": np.inf,\n",
    "    # \"batch_size\": 4096,\n",
    "}\n",
    "max_evals = 25\n",
    "\n",
    "space_large = {\n",
    "    # loguniform\n",
    "    \"learning_rate\": hp.loguniform(\n",
    "        \"learning_rate\", np.log(0.03 / 10), np.log(0.03 * 10)\n",
    "    ),\n",
    "    \"weight_decay\": hp.loguniform(\"weight_decay\", np.log(0.01 / 10), np.log(0.01 * 10)),\n",
    "    \"gamma\": hp.loguniform(\"gamma\", np.log(0.98), np.log(0.9998)),\n",
    "    \"n_epochs\": hp.choice(\"n_epochs\", [1000, 10000]),\n",
    "    \"n_units\": hp.choice(\"n_units\", [16, 64, 256, 1024]),\n",
    "    \"n_layers\": hp.choice(\"n_layers\", [1, 2, 3, 4, 5]),\n",
    "    \"batch_size\": hp.choice(\"batch_size\", [256, 512, 1024, 2048]),\n",
    "    # Fixed\n",
    "    \"log_interval\": np.inf,\n",
    "}\n",
    "max_evals_large = 300"
   ]
  },
  {
   "cell_type": "code",
   "execution_count": 8,
   "metadata": {},
   "outputs": [],
   "source": [
    "def hyperparameter_tuning(space, verbose=True):\n",
    "    \"\"\"Define the hyperopt objective function.\"\"\"\n",
    "    # Set up the varied hyperparameters\n",
    "    params = models.get_default_params()\n",
    "    for key, value in space.items():\n",
    "        if key in params.__dict__:\n",
    "            setattr(params, key, value)\n",
    "\n",
    "    # Create the model\n",
    "    input_n = X.shape[1]\n",
    "    output_n = y.shape[1]\n",
    "    model = models.MLP(input_n, params.n_hidden_units, output_n, params.n_layers)\n",
    "    model = model.to(params.device)\n",
    "\n",
    "    # Set up for training\n",
    "    optimizer = torch.optim.Adam(\n",
    "        params=model.parameters(),\n",
    "        lr=params.learning_rate,\n",
    "        weight_decay=params.weight_decay,\n",
    "    )\n",
    "    scheduler = StepLR(optimizer, step_size=1, gamma=params.gamma)\n",
    "    loss_function = nn.MSELoss()\n",
    "\n",
    "    # Train model\n",
    "    _, _ = models.train_and_evaluate(\n",
    "        model, train_loader, test_loader, scheduler, optimizer, loss_function, params\n",
    "    )\n",
    "    model.eval()\n",
    "    y_pred = model(X_test)\n",
    "    loss = loss_function(y_pred, y_test)\n",
    "\n",
    "    if verbose:\n",
    "        print(f\"Using varied parameters: {space}\")\n",
    "        print(f\"                   Loss: {loss}\")\n",
    "    return {\"loss\": loss, \"status\": STATUS_OK, \"model\": model}"
   ]
  },
  {
   "cell_type": "code",
   "execution_count": 9,
   "metadata": {},
   "outputs": [
    {
     "name": "stdout",
     "output_type": "stream",
     "text": [
      "  0%|          | 0/25 [00:00<?, ?trial/s, best loss=?]"
     ]
    },
    {
     "name": "stdout",
     "output_type": "stream",
     "text": [
      "Using varied parameters: {'gamma': 0.9870042431950308, 'learning_rate': 0.009876173187360738, 'log_interval': inf, 'n_layers': 2, 'n_units': 1024, 'weight_decay': 0.006599769835456726}\n",
      "                   Loss: 20.256103515625              \n",
      "Using varied parameters: {'gamma': 0.9816498475907302, 'learning_rate': 0.009344218075022604, 'log_interval': inf, 'n_layers': 2, 'n_units': 256, 'weight_decay': 0.0011820985380345912}\n",
      "                   Loss: 27.947633743286133                                  \n",
      "Using varied parameters: {'gamma': 0.9911536946991817, 'learning_rate': 0.043290053031881624, 'log_interval': inf, 'n_layers': 5, 'n_units': 256, 'weight_decay': 0.042547353875835796}\n",
      "                   Loss: 15.527292251586914                                  \n",
      "Using varied parameters: {'gamma': 0.992791371460069, 'learning_rate': 0.010911622874043729, 'log_interval': inf, 'n_layers': 2, 'n_units': 256, 'weight_decay': 0.058136668026217454}\n",
      "                   Loss: 16.93610954284668                                      \n",
      "Using varied parameters: {'gamma': 0.9829137096591649, 'learning_rate': 0.013848006744752903, 'log_interval': inf, 'n_layers': 1, 'n_units': 1024, 'weight_decay': 0.0048964654726177505}\n",
      "                   Loss: 40.31107711791992                                      \n",
      "Using varied parameters: {'gamma': 0.9903307898122503, 'learning_rate': 0.16878273906961117, 'log_interval': inf, 'n_layers': 4, 'n_units': 16, 'weight_decay': 0.01873276153467917}\n",
      "                   Loss: 477.4388122558594                                      \n",
      "Using varied parameters: {'gamma': 0.9917774713856943, 'learning_rate': 0.008561327813768584, 'log_interval': inf, 'n_layers': 1, 'n_units': 1024, 'weight_decay': 0.0340967341311293}\n",
      "                   Loss: 20.27440643310547                                      \n",
      "Using varied parameters: {'gamma': 0.9991624936892297, 'learning_rate': 0.00897076213554043, 'log_interval': inf, 'n_layers': 1, 'n_units': 64, 'weight_decay': 0.07819554722927777}\n",
      "                   Loss: 17.601776123046875                                     \n",
      "Using varied parameters: {'gamma': 0.9994745200503616, 'learning_rate': 0.005741927634347981, 'log_interval': inf, 'n_layers': 5, 'n_units': 256, 'weight_decay': 0.023012560550778247}\n",
      "                   Loss: 23.243324279785156                                     \n",
      "Using varied parameters: {'gamma': 0.9830603789828708, 'learning_rate': 0.03510093054967399, 'log_interval': inf, 'n_layers': 4, 'n_units': 64, 'weight_decay': 0.006507427427133053}\n",
      "                   Loss: 15.42158031463623                                      \n",
      "Using varied parameters: {'gamma': 0.9898858526098723, 'learning_rate': 0.03340313273111758, 'log_interval': inf, 'n_layers': 4, 'n_units': 256, 'weight_decay': 0.00836480419100797}\n",
      "                   Loss: 15.562355041503906                                     \n",
      "Using varied parameters: {'gamma': 0.9826720455790403, 'learning_rate': 0.05782026852083376, 'log_interval': inf, 'n_layers': 4, 'n_units': 64, 'weight_decay': 0.0022879458343285745}\n",
      "                   Loss: 21.384214401245117                                     \n",
      "Using varied parameters: {'gamma': 0.9919154018712916, 'learning_rate': 0.154317582433368, 'log_interval': inf, 'n_layers': 3, 'n_units': 256, 'weight_decay': 0.001618184844129367}\n",
      "                   Loss: 16.025787353515625                                     \n",
      "Using varied parameters: {'gamma': 0.9816863517760976, 'learning_rate': 0.009547332003752317, 'log_interval': inf, 'n_layers': 5, 'n_units': 16, 'weight_decay': 0.0016511943032414406}\n",
      "                   Loss: 39.62178039550781                                      \n",
      "Using varied parameters: {'gamma': 0.9854907613950482, 'learning_rate': 0.003991598897235088, 'log_interval': inf, 'n_layers': 3, 'n_units': 256, 'weight_decay': 0.0012824807009474593}\n",
      "                   Loss: 103.03490447998047                                     \n",
      "Using varied parameters: {'gamma': 0.9953382702895522, 'learning_rate': 0.004177172154748499, 'log_interval': inf, 'n_layers': 2, 'n_units': 16, 'weight_decay': 0.046061999449802334}\n",
      "                   Loss: 23.373985290527344                                     \n",
      "Using varied parameters: {'gamma': 0.9917210581026212, 'learning_rate': 0.011204820799570359, 'log_interval': inf, 'n_layers': 1, 'n_units': 256, 'weight_decay': 0.044926987934063634}\n",
      "                   Loss: 17.397598266601562                                     \n",
      "Using varied parameters: {'gamma': 0.9902427812963378, 'learning_rate': 0.006999405589576226, 'log_interval': inf, 'n_layers': 5, 'n_units': 1024, 'weight_decay': 0.03062122633420683}\n",
      "                   Loss: 22.463212966918945                                     \n",
      "Using varied parameters: {'gamma': 0.9984239659294588, 'learning_rate': 0.015466182445052377, 'log_interval': inf, 'n_layers': 2, 'n_units': 16, 'weight_decay': 0.01561494730333164}\n",
      "                   Loss: 17.111053466796875                                     \n",
      "Using varied parameters: {'gamma': 0.9843269597707854, 'learning_rate': 0.013690750854364853, 'log_interval': inf, 'n_layers': 2, 'n_units': 1024, 'weight_decay': 0.0177463409880399}\n",
      "                   Loss: 21.59194564819336                                      \n",
      "Using varied parameters: {'gamma': 0.9875012947647217, 'learning_rate': 0.08036557115377044, 'log_interval': inf, 'n_layers': 5, 'n_units': 64, 'weight_decay': 0.0037762388489490525}\n",
      "                   Loss: 573.1689453125                                         \n",
      "Using varied parameters: {'gamma': 0.9949374406770286, 'learning_rate': 0.025579935020955614, 'log_interval': inf, 'n_layers': 4, 'n_units': 64, 'weight_decay': 0.011042612925766093}\n",
      "                   Loss: 15.730989456176758                                     \n",
      "Using varied parameters: {'gamma': 0.9867994572831443, 'learning_rate': 0.07912723130220521, 'log_interval': inf, 'n_layers': 4, 'n_units': 64, 'weight_decay': 0.002828683400748624}\n",
      "                   Loss: 15.673434257507324                                     \n",
      "Using varied parameters: {'gamma': 0.9801501337405548, 'learning_rate': 0.03352350687942725, 'log_interval': inf, 'n_layers': 5, 'n_units': 64, 'weight_decay': 0.09511465855729372}\n",
      "                   Loss: 28.333324432373047                                     \n",
      "Using varied parameters: {'gamma': 0.9882278387528295, 'learning_rate': 0.26701909492640874, 'log_interval': inf, 'n_layers': 5, 'n_units': 64, 'weight_decay': 0.01232018804084134}\n",
      "                   Loss: 477.45233154296875                                     \n",
      "100%|██████████| 25/25 [08:25<00:00, 20.20s/trial, best loss: 15.42158031463623]\n",
      "Best hyperparameters: {'gamma': 0.9830603789828708, 'learning_rate': 0.03510093054967399, 'n_layers': 3, 'n_units': 1, 'weight_decay': 0.006507427427133053}\n"
     ]
    }
   ],
   "source": [
    "# Run trials.\n",
    "run_large_space = False\n",
    "if run_large_space:\n",
    "    space_to_use = space_large\n",
    "    max_evals_to_use = max_evals_large\n",
    "else:\n",
    "    space_to_use = space\n",
    "    max_evals_to_use = max_evals\n",
    "trials = Trials()\n",
    "best = fmin(\n",
    "    fn=hyperparameter_tuning,\n",
    "    space=space_to_use,\n",
    "    algo=tpe.suggest,\n",
    "    max_evals=max_evals_to_use,\n",
    "    trials=trials,\n",
    ")\n",
    "print(f\"Best hyperparameters: {best}\")"
   ]
  },
  {
   "cell_type": "code",
   "execution_count": 10,
   "metadata": {},
   "outputs": [
    {
     "name": "stdout",
     "output_type": "stream",
     "text": [
      "Final loss (MSE): 15.42158031\n",
      "Best optimized hyperparameters:\n",
      "{'gamma': 0.9830603789828708, 'learning_rate': 0.03510093054967399, 'log_interval': inf, 'n_layers': 4, 'n_units': 64, 'weight_decay': 0.006507427427133053}\n"
     ]
    }
   ],
   "source": [
    "# Create instace of best model.\n",
    "best_model = trials.results[np.argmin([r[\"loss\"] for r in trials.results])][\"model\"]\n",
    "\n",
    "# Examine model hyperparameters\n",
    "best_model_loss = trials.results[np.argmin([r[\"loss\"] for r in trials.results])][\"loss\"]\n",
    "print(f\"Final loss (MSE): {best_model_loss:.8f}\")\n",
    "print(f\"Best optimized hyperparameters:\\n{space_eval(space, best)}\")"
   ]
  },
  {
   "cell_type": "code",
   "execution_count": 11,
   "metadata": {},
   "outputs": [
    {
     "name": "stdout",
     "output_type": "stream",
     "text": [
      "Best Model RMSE: 3.927032\n",
      "Base model RMSE: 3.9647524\n",
      "Mean model RMSE: 21.851515\n"
     ]
    }
   ],
   "source": [
    "best_model.eval()\n",
    "best_model_score = root_mean_squared_error(\n",
    "    y_test.cpu(), best_model(X_test).cpu().detach().numpy()\n",
    ")\n",
    "print(\"Best Model RMSE:\", best_model_score)\n",
    "#\n",
    "base_model_score = root_mean_squared_error(\n",
    "    y_test.cpu(), base_model(X_test).cpu().detach().numpy()\n",
    ")\n",
    "print(\"Base model RMSE:\", base_model_score)\n",
    "# MSE from guessing the mean of the training set\n",
    "mean_model_score = root_mean_squared_error(\n",
    "    y_test.cpu(), np.full(y_test.shape, np.mean(y_train.cpu().detach().numpy()))\n",
    ")\n",
    "print(\"Mean model RMSE:\", mean_model_score)"
   ]
  },
  {
   "cell_type": "markdown",
   "metadata": {},
   "source": [
    "## Save Trials and plot results\n"
   ]
  },
  {
   "cell_type": "code",
   "execution_count": 12,
   "metadata": {},
   "outputs": [],
   "source": [
    "# Save the trials object, datetime stamped\n",
    "# TODO clean up and move into src.models\n",
    "if run_large_space:\n",
    "    trial_filename = f\"trials_{time.strftime('%Y%m%d-%H%M%S')}.pkl\"\n",
    "    trial_filepath = models.MODEL_PATH / trial_filename\n",
    "    print(trial_filepath)\n",
    "    with open(trial_filepath, \"wb\") as f:\n",
    "        pickle.dump(trials, f)"
   ]
  },
  {
   "cell_type": "code",
   "execution_count": 14,
   "metadata": {},
   "outputs": [
    {
     "data": {
      "text/html": [
       "<div>\n",
       "<style scoped>\n",
       "    .dataframe tbody tr th:only-of-type {\n",
       "        vertical-align: middle;\n",
       "    }\n",
       "\n",
       "    .dataframe tbody tr th {\n",
       "        vertical-align: top;\n",
       "    }\n",
       "\n",
       "    .dataframe thead th {\n",
       "        text-align: right;\n",
       "    }\n",
       "</style>\n",
       "<table border=\"1\" class=\"dataframe\">\n",
       "  <thead>\n",
       "    <tr style=\"text-align: right;\">\n",
       "      <th></th>\n",
       "      <th>gamma</th>\n",
       "      <th>learning_rate</th>\n",
       "      <th>n_layers</th>\n",
       "      <th>n_units</th>\n",
       "      <th>weight_decay</th>\n",
       "      <th>loss</th>\n",
       "      <th>trial_number</th>\n",
       "    </tr>\n",
       "  </thead>\n",
       "  <tbody>\n",
       "    <tr>\n",
       "      <th>0</th>\n",
       "      <td>0.987004</td>\n",
       "      <td>0.009876</td>\n",
       "      <td>1.0</td>\n",
       "      <td>3.0</td>\n",
       "      <td>0.006600</td>\n",
       "      <td>20.256104</td>\n",
       "      <td>0</td>\n",
       "    </tr>\n",
       "    <tr>\n",
       "      <th>1</th>\n",
       "      <td>0.981650</td>\n",
       "      <td>0.009344</td>\n",
       "      <td>1.0</td>\n",
       "      <td>2.0</td>\n",
       "      <td>0.001182</td>\n",
       "      <td>27.947634</td>\n",
       "      <td>1</td>\n",
       "    </tr>\n",
       "    <tr>\n",
       "      <th>2</th>\n",
       "      <td>0.991154</td>\n",
       "      <td>0.043290</td>\n",
       "      <td>4.0</td>\n",
       "      <td>2.0</td>\n",
       "      <td>0.042547</td>\n",
       "      <td>15.527292</td>\n",
       "      <td>2</td>\n",
       "    </tr>\n",
       "    <tr>\n",
       "      <th>3</th>\n",
       "      <td>0.992791</td>\n",
       "      <td>0.010912</td>\n",
       "      <td>1.0</td>\n",
       "      <td>2.0</td>\n",
       "      <td>0.058137</td>\n",
       "      <td>16.936110</td>\n",
       "      <td>3</td>\n",
       "    </tr>\n",
       "    <tr>\n",
       "      <th>4</th>\n",
       "      <td>0.982914</td>\n",
       "      <td>0.013848</td>\n",
       "      <td>0.0</td>\n",
       "      <td>3.0</td>\n",
       "      <td>0.004896</td>\n",
       "      <td>40.311077</td>\n",
       "      <td>4</td>\n",
       "    </tr>\n",
       "  </tbody>\n",
       "</table>\n",
       "</div>"
      ],
      "text/plain": [
       "      gamma  learning_rate  n_layers  n_units  weight_decay       loss  \\\n",
       "0  0.987004       0.009876       1.0      3.0      0.006600  20.256104   \n",
       "1  0.981650       0.009344       1.0      2.0      0.001182  27.947634   \n",
       "2  0.991154       0.043290       4.0      2.0      0.042547  15.527292   \n",
       "3  0.992791       0.010912       1.0      2.0      0.058137  16.936110   \n",
       "4  0.982914       0.013848       0.0      3.0      0.004896  40.311077   \n",
       "\n",
       "   trial_number  \n",
       "0             0  \n",
       "1             1  \n",
       "2             2  \n",
       "3             3  \n",
       "4             4  "
      ]
     },
     "execution_count": 14,
     "metadata": {},
     "output_type": "execute_result"
    }
   ],
   "source": [
    "# Convert the trials object to a dataframe for easier analysis\n",
    "def unpack(x):\n",
    "    if x:\n",
    "        return x[0]\n",
    "    return np.nan\n",
    "\n",
    "\n",
    "trials_df = pd.DataFrame([pd.Series(t[\"misc\"][\"vals\"]).apply(unpack) for t in trials])\n",
    "trials_df[\"loss\"] = [t[\"result\"][\"loss\"] for t in trials]\n",
    "trials_df[\"trial_number\"] = trials_df.index\n",
    "trials_df.head()"
   ]
  },
  {
   "cell_type": "code",
   "execution_count": 20,
   "metadata": {},
   "outputs": [
    {
     "data": {
      "image/png": "[encoded data removed]",
      "text/plain": [
       "<Figure size 500x150 with 1 Axes>"
      ]
     },
     "metadata": {},
     "output_type": "display_data"
    },
    {
     "data": {
      "image/png": "[encoded data removed]",
      "text/plain": [
       "<Figure size 500x150 with 1 Axes>"
      ]
     },
     "metadata": {},
     "output_type": "display_data"
    },
    {
     "data": {
      "image/png": "[encoded data removed]",
      "text/plain": [
       "<Figure size 500x150 with 1 Axes>"
      ]
     },
     "metadata": {},
     "output_type": "display_data"
    },
    {
     "data": {
      "image/png": "[encoded data removed]",
      "text/plain": [
       "<Figure size 500x150 with 1 Axes>"
      ]
     },
     "metadata": {},
     "output_type": "display_data"
    },
    {
     "data": {
      "image/png": "[encoded data removed]",
      "text/plain": [
       "<Figure size 500x150 with 1 Axes>"
      ]
     },
     "metadata": {},
     "output_type": "display_data"
    }
   ],
   "source": [
    "# Loop over columns of the dataframe and plot loss vs hyperparameter\n",
    "for col in trials_df.columns:\n",
    "    if col in [\"loss\", \"trial_number\"]:\n",
    "        continue\n",
    "    fig = plt.figure(figsize=(5, 1.5))\n",
    "    if len(trials_df[col].unique()) < 10:  # Treat as categorical\n",
    "        # Bar chart with error\n",
    "        mean = trials_df.groupby(col)[\"loss\"].mean()\n",
    "        std = trials_df.groupby(col)[\"loss\"].std()\n",
    "        plt.bar(mean.index, mean)  # , yerr=std)\n",
    "    plt.scatter(trials_df[col], trials_df[\"loss\"], s=10)\n",
    "    plt.xlabel(col)\n",
    "    plt.ylabel(\"Loss\")\n",
    "    plt.yscale(\"log\")\n",
    "    plt.show()"
   ]
  }
 ],
 "metadata": {
  "kernelspec": {
   "display_name": "venv",
   "language": "python",
   "name": "python3"
  },
  "language_info": {
   "codemirror_mode": {
    "name": "ipython",
    "version": 3
   },
   "file_extension": ".py",
   "mimetype": "text/x-python",
   "name": "python",
   "nbconvert_exporter": "python",
   "pygments_lexer": "ipython3",
   "version": "3.11.7"
  },
  "orig_nbformat": 4
 },
 "nbformat": 4,
 "nbformat_minor": 2
}
