{
 "cells": [
  {
   "cell_type": "markdown",
   "metadata": {},
   "source": [
    "# Fit a state-space model to predict performance\n",
    "\n",
    "To evaluate skill across time, we need to take into account trial-type difficulty.\n",
    "\n",
    "Use a state-space model to fit to performance as a function of trial type.\n",
    "\n",
    "Can use:\n",
    "\n",
    "- scipy.signal.StateSpace <https://docs.scipy.org/doc/scipy/reference/generated/scipy.signal.StateSpace.html> or\n",
    "- pykalman.KalmanFilter <https://pykalman.github.io/> or\n",
    "- control.StateSpace <https://python-control.readthedocs.io/en/latest/generated/control.StateSpace.html>\n",
    "\n",
    "Slides for reference <https://www.halvorsen.blog/documents/programming/python/resources/powerpoints/State%20Space%20Models%20with%20Python.pdf>\n"
   ]
  },
  {
   "cell_type": "markdown",
   "metadata": {},
   "source": [
    "## Set up\n"
   ]
  },
  {
   "cell_type": "code",
   "execution_count": 1,
   "metadata": {},
   "outputs": [],
   "source": [
    "# Set up to use local modules\n",
    "%load_ext autoreload\n",
    "%autoreload 2\n",
    "import os\n",
    "import sys\n",
    "module_path = os.path.abspath(os.path.join('..'))\n",
    "sys.path.insert(0, module_path)"
   ]
  },
  {
   "cell_type": "code",
   "execution_count": 2,
   "metadata": {},
   "outputs": [],
   "source": [
    "# Fit a state-space model to performance data, taking into account the trial type\n",
    "# and the difficulty of the trial\n",
    "\n",
    "\"\"\"\n",
    "import numpy as np\n",
    "import pandas as pd\n",
    "import matplotlib.pyplot as plt\n",
    "import seaborn as sns\n",
    "import scipy.stats as stats\n",
    "import statsmodels.api as sm\n",
    "\n",
    "from state_space import StateSpace\n",
    "\"\"\"\n",
    "\n",
    "# See a possible example here\n",
    "# https://www.statsmodels.org/dev/examples/notebooks/generated/statespace_fixed_params.html\n",
    "\n",
    "import scipy\n",
    "import numpy as np"
   ]
  },
  {
   "cell_type": "code",
   "execution_count": 3,
   "metadata": {},
   "outputs": [],
   "source": [
    "## State-space model"
   ]
  },
  {
   "cell_type": "code",
   "execution_count": 4,
   "metadata": {},
   "outputs": [
    {
     "name": "stdout",
     "output_type": "stream",
     "text": [
      "StateSpaceContinuous(\n",
      "array([[0, 1],\n",
      "       [0, 0]]),\n",
      "array([[0],\n",
      "       [1]]),\n",
      "array([[1, 0]]),\n",
      "array([[0]]),\n",
      "dt: None\n",
      ")\n"
     ]
    }
   ],
   "source": [
    "# Example from the documentation\n",
    "# https://docs.scipy.org/doc/scipy/reference/generated/scipy.signal.StateSpace.html\n",
    "\n",
    "a = np.array([[0, 1], [0, 0]])\n",
    "b = np.array([[0], [1]])\n",
    "c = np.array([[1, 0]])\n",
    "d = np.array([[0]])\n",
    "sys = scipy.signal.StateSpace(a, b, c, d)\n",
    "print(sys)"
   ]
  },
  {
   "cell_type": "code",
   "execution_count": 5,
   "metadata": {},
   "outputs": [
    {
     "data": {
      "text/plain": [
       "StateSpaceDiscrete(\n",
       "array([[1. , 0.1],\n",
       "       [0. , 1. ]]),\n",
       "array([[0.005],\n",
       "       [0.1  ]]),\n",
       "array([[1, 0]]),\n",
       "array([[0]]),\n",
       "dt: 0.1\n",
       ")"
      ]
     },
     "execution_count": 5,
     "metadata": {},
     "output_type": "execute_result"
    }
   ],
   "source": [
    "sys.to_discrete(0.1)"
   ]
  }
 ],
 "metadata": {
  "kernelspec": {
   "display_name": "venv",
   "language": "python",
   "name": "python3"
  },
  "language_info": {
   "codemirror_mode": {
    "name": "ipython",
    "version": 3
   },
   "file_extension": ".py",
   "mimetype": "text/x-python",
   "name": "python",
   "nbconvert_exporter": "python",
   "pygments_lexer": "ipython3",
   "version": "3.11.7"
  },
  "orig_nbformat": 4
 },
 "nbformat": 4,
 "nbformat_minor": 2
}
