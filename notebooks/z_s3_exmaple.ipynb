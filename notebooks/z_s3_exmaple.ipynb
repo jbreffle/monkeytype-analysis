{
 "cells": [
  {
   "cell_type": "markdown",
   "metadata": {},
   "source": [
    "# AWS S3\n",
    "\n",
    "Working example of writing and reading from an S3 bucket using the `boto3` library.\n",
    "\n",
    "Following:\n",
    "https://towardsdatascience.com/reading-and-writing-files-from-to-amazon-s3-with-pandas-ccaf90bfe86c\n"
   ]
  },
  {
   "cell_type": "code",
   "execution_count": null,
   "metadata": {},
   "outputs": [],
   "source": [
    "# Set up to use local modules\n",
    "%load_ext autoreload\n",
    "%autoreload 2\n",
    "import os\n",
    "import sys\n",
    "module_path = os.path.abspath(os.path.join('..'))\n",
    "sys.path.insert(0, module_path)\n",
    "\n",
    "from dotenv import load_dotenv\n",
    "import pandas as pd\n",
    "import pandas as pd\n",
    "\n",
    "from src import process\n",
    "\n",
    "load_dotenv()\n",
    "\n",
    "AWS_S3_BUCKET = os.getenv(\"AWS_S3_TEST_BUCKET\")\n",
    "AWS_ACCESS_KEY_ID = os.getenv(\"AWS_ACCESS_KEY_ID\")\n",
    "AWS_SECRET_ACCESS_KEY = os.getenv(\"AWS_SECRET_ACCESS_KEY\")\n",
    "AWS_SESSION_TOKEN = os.getenv(\"AWS_SESSION_TOKEN\")\n",
    "\n",
    "\n",
    "data_df = process.load_processed_results()\n",
    "# display(data_df.tail())"
   ]
  },
  {
   "cell_type": "code",
   "execution_count": null,
   "metadata": {},
   "outputs": [],
   "source": [
    "books_df = pd.DataFrame(\n",
    "    data={\"Title\": [\"Book I\", \"Book II\", \"Book V\"], \"Price\": [56.6, 59.87, 74.54]},\n",
    "    columns=[\"Title\", \"Price\"],\n",
    ")\n",
    "\n",
    "key = \"data/raw/books.csv\"\n",
    "\n",
    "books_df.to_csv(\n",
    "    f\"s3://{AWS_S3_BUCKET}/{key}\",\n",
    "    index=False,\n",
    "    storage_options={\n",
    "        \"key\": AWS_ACCESS_KEY_ID,\n",
    "        \"secret\": AWS_SECRET_ACCESS_KEY,\n",
    "    },\n",
    ")\n",
    "print(f\"Data saved at: s3://{AWS_S3_BUCKET}/{key}\")"
   ]
  },
  {
   "cell_type": "code",
   "execution_count": null,
   "metadata": {},
   "outputs": [],
   "source": [
    "key = \"data/raw/books.csv\"\n",
    "\n",
    "# Read the data from the S3 bucket\n",
    "loaded_df = pd.read_csv(\n",
    "    f\"s3://{AWS_S3_BUCKET}/{key}\",\n",
    "    storage_options={\n",
    "        \"key\": AWS_ACCESS_KEY_ID,\n",
    "        \"secret\": AWS_SECRET_ACCESS_KEY,\n",
    "    },\n",
    ")\n",
    "display(loaded_df)"
   ]
  },
  {
   "cell_type": "markdown",
   "metadata": {},
   "source": [
    "# List files in a bucket\n"
   ]
  },
  {
   "cell_type": "code",
   "execution_count": null,
   "metadata": {},
   "outputs": [],
   "source": [
    "import boto3\n",
    "\n",
    "session = boto3.Session(\n",
    "    aws_access_key_id=AWS_ACCESS_KEY_ID,\n",
    "    aws_secret_access_key=AWS_SECRET_ACCESS_KEY,\n",
    ")\n",
    "\n",
    "s3 = session.resource(\"s3\")\n",
    "my_bucket = s3.Bucket(\"monkeytype-analysis\")\n",
    "# List all files in my_bucket/data/raw\n",
    "for my_bucket_object in my_bucket.objects.filter(Prefix=\"data/raw/\"):\n",
    "    print(my_bucket_object.key)"
   ]
  },
  {
   "cell_type": "code",
   "execution_count": null,
   "metadata": {},
   "outputs": [],
   "source": [
    "# Find all files in my_bucket/data/raw that match the pattern \"results-*.csv\"\n",
    "# Include the full path in the key\n",
    "keys = [\n",
    "    my_bucket_object.key\n",
    "    for my_bucket_object in my_bucket.objects.filter(Prefix=\"data/raw/\")\n",
    "    if \"results-\" in my_bucket_object.key\n",
    "]\n",
    "print(keys)"
   ]
  },
  {
   "cell_type": "code",
   "execution_count": null,
   "metadata": {},
   "outputs": [],
   "source": [
    "# Append the bucket path to the keys\n",
    "bucket_path = f\"s3://{AWS_S3_BUCKET}/\"\n",
    "keys = [bucket_path + key for key in keys]\n",
    "print(keys)"
   ]
  },
  {
   "cell_type": "code",
   "execution_count": null,
   "metadata": {},
   "outputs": [],
   "source": [
    "my_bucket_object = my_bucket.Object(keys[0])"
   ]
  }
 ],
 "metadata": {
  "kernelspec": {
   "display_name": "venv",
   "language": "python",
   "name": "python3"
  },
  "language_info": {
   "codemirror_mode": {
    "name": "ipython",
    "version": 3
   },
   "file_extension": ".py",
   "mimetype": "text/x-python",
   "name": "python",
   "nbconvert_exporter": "python",
   "pygments_lexer": "ipython3",
   "version": "3.11.7"
  }
 },
 "nbformat": 4,
 "nbformat_minor": 2
}
